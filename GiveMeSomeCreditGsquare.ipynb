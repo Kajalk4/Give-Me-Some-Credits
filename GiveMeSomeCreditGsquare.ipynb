{
 "cells": [
  {
   "cell_type": "code",
   "execution_count": 1,
   "id": "58cd96f3",
   "metadata": {},
   "outputs": [],
   "source": [
    "import warnings\n",
    "warnings.filterwarnings(\"ignore\")\n",
    "import numpy as np\n",
    "import pandas as pd\n",
    "import matplotlib.pyplot as plt\n",
    "%matplotlib inline\n",
    "import seaborn as sns\n",
    "from scipy.stats import zscore, iqr, boxcox, chi2_contingency, normaltest, shapiro, ttest_1samp\n",
    "from statsmodels.stats.weightstats import ztest\n",
    "import statsmodels.api as sm\n",
    "from sklearn.preprocessing import MinMaxScaler, StandardScaler, LabelEncoder, OneHotEncoder\n",
    "from sklearn.model_selection import train_test_split, GridSearchCV, RandomizedSearchCV\n",
    "from sklearn.linear_model import LogisticRegression\n",
    "from sklearn.neighbors import KNeighborsClassifier\n",
    "from sklearn.tree import DecisionTreeClassifier\n",
    "from sklearn.ensemble import RandomForestClassifier, AdaBoostClassifier, GradientBoostingClassifier\n",
    "from sklearn.metrics import accuracy_score, classification_report, confusion_matrix, roc_auc_score, roc_curve"
   ]
  },
  {
   "cell_type": "markdown",
   "id": "35ad5aa8",
   "metadata": {},
   "source": [
    "# 1. Problem Statement\n",
    "- Improve on the state of the art in credit scoring by predicting the probability that somebody will experience financial distress in the next two years.\n",
    "- Banks play a crucial role in market economies. They decide who can get finance and on what terms and can make or break investment decisions. \n",
    "- For markets and society to function, individuals and companies need access to credit. \n",
    "- Credit scoring algorithms, which make a guess at the probability of default, are the method banks use to determine whether or not a loan should be granted. \n",
    "- This competition requires participants to improve on the state of the art in credit scoring, by predicting the probability that somebody will experience financial distress in the next two years."
   ]
  },
  {
   "cell_type": "markdown",
   "id": "65305bf0",
   "metadata": {},
   "source": [
    "## 2. Data Gathering"
   ]
  },
  {
   "cell_type": "code",
   "execution_count": 2,
   "id": "4689d812",
   "metadata": {},
   "outputs": [],
   "source": [
    "train_path = r\"C:\\Users\\tradi\\Downloads\\Gsquare\\cs-training.csv\"\n",
    "test_path = r\"C:\\Users\\tradi\\Downloads\\Gsquare\\cs-test.csv\""
   ]
  },
  {
   "cell_type": "code",
   "execution_count": 3,
   "id": "3ee5949b",
   "metadata": {},
   "outputs": [],
   "source": [
    "train_df = pd.read_csv(train_path)\n",
    "test_df = pd.read_csv(test_path)"
   ]
  },
  {
   "cell_type": "markdown",
   "id": "97f8d042",
   "metadata": {},
   "source": [
    "#### Take a quick overview of data"
   ]
  },
  {
   "cell_type": "code",
   "execution_count": 4,
   "id": "0e2bf905",
   "metadata": {
    "scrolled": true
   },
   "outputs": [
    {
     "data": {
      "text/html": [
       "<div>\n",
       "<style scoped>\n",
       "    .dataframe tbody tr th:only-of-type {\n",
       "        vertical-align: middle;\n",
       "    }\n",
       "\n",
       "    .dataframe tbody tr th {\n",
       "        vertical-align: top;\n",
       "    }\n",
       "\n",
       "    .dataframe thead th {\n",
       "        text-align: right;\n",
       "    }\n",
       "</style>\n",
       "<table border=\"1\" class=\"dataframe\">\n",
       "  <thead>\n",
       "    <tr style=\"text-align: right;\">\n",
       "      <th></th>\n",
       "      <th>Unnamed: 0</th>\n",
       "      <th>SeriousDlqin2yrs</th>\n",
       "      <th>RevolvingUtilizationOfUnsecuredLines</th>\n",
       "      <th>age</th>\n",
       "      <th>NumberOfTime30-59DaysPastDueNotWorse</th>\n",
       "      <th>DebtRatio</th>\n",
       "      <th>MonthlyIncome</th>\n",
       "      <th>NumberOfOpenCreditLinesAndLoans</th>\n",
       "      <th>NumberOfTimes90DaysLate</th>\n",
       "      <th>NumberRealEstateLoansOrLines</th>\n",
       "      <th>NumberOfTime60-89DaysPastDueNotWorse</th>\n",
       "      <th>NumberOfDependents</th>\n",
       "    </tr>\n",
       "  </thead>\n",
       "  <tbody>\n",
       "    <tr>\n",
       "      <th>0</th>\n",
       "      <td>1</td>\n",
       "      <td>1</td>\n",
       "      <td>0.766127</td>\n",
       "      <td>45</td>\n",
       "      <td>2</td>\n",
       "      <td>0.802982</td>\n",
       "      <td>9120.0</td>\n",
       "      <td>13</td>\n",
       "      <td>0</td>\n",
       "      <td>6</td>\n",
       "      <td>0</td>\n",
       "      <td>2.0</td>\n",
       "    </tr>\n",
       "    <tr>\n",
       "      <th>1</th>\n",
       "      <td>2</td>\n",
       "      <td>0</td>\n",
       "      <td>0.957151</td>\n",
       "      <td>40</td>\n",
       "      <td>0</td>\n",
       "      <td>0.121876</td>\n",
       "      <td>2600.0</td>\n",
       "      <td>4</td>\n",
       "      <td>0</td>\n",
       "      <td>0</td>\n",
       "      <td>0</td>\n",
       "      <td>1.0</td>\n",
       "    </tr>\n",
       "    <tr>\n",
       "      <th>2</th>\n",
       "      <td>3</td>\n",
       "      <td>0</td>\n",
       "      <td>0.658180</td>\n",
       "      <td>38</td>\n",
       "      <td>1</td>\n",
       "      <td>0.085113</td>\n",
       "      <td>3042.0</td>\n",
       "      <td>2</td>\n",
       "      <td>1</td>\n",
       "      <td>0</td>\n",
       "      <td>0</td>\n",
       "      <td>0.0</td>\n",
       "    </tr>\n",
       "    <tr>\n",
       "      <th>3</th>\n",
       "      <td>4</td>\n",
       "      <td>0</td>\n",
       "      <td>0.233810</td>\n",
       "      <td>30</td>\n",
       "      <td>0</td>\n",
       "      <td>0.036050</td>\n",
       "      <td>3300.0</td>\n",
       "      <td>5</td>\n",
       "      <td>0</td>\n",
       "      <td>0</td>\n",
       "      <td>0</td>\n",
       "      <td>0.0</td>\n",
       "    </tr>\n",
       "    <tr>\n",
       "      <th>4</th>\n",
       "      <td>5</td>\n",
       "      <td>0</td>\n",
       "      <td>0.907239</td>\n",
       "      <td>49</td>\n",
       "      <td>1</td>\n",
       "      <td>0.024926</td>\n",
       "      <td>63588.0</td>\n",
       "      <td>7</td>\n",
       "      <td>0</td>\n",
       "      <td>1</td>\n",
       "      <td>0</td>\n",
       "      <td>0.0</td>\n",
       "    </tr>\n",
       "  </tbody>\n",
       "</table>\n",
       "</div>"
      ],
      "text/plain": [
       "   Unnamed: 0  SeriousDlqin2yrs  RevolvingUtilizationOfUnsecuredLines  age  \\\n",
       "0           1                 1                              0.766127   45   \n",
       "1           2                 0                              0.957151   40   \n",
       "2           3                 0                              0.658180   38   \n",
       "3           4                 0                              0.233810   30   \n",
       "4           5                 0                              0.907239   49   \n",
       "\n",
       "   NumberOfTime30-59DaysPastDueNotWorse  DebtRatio  MonthlyIncome  \\\n",
       "0                                     2   0.802982         9120.0   \n",
       "1                                     0   0.121876         2600.0   \n",
       "2                                     1   0.085113         3042.0   \n",
       "3                                     0   0.036050         3300.0   \n",
       "4                                     1   0.024926        63588.0   \n",
       "\n",
       "   NumberOfOpenCreditLinesAndLoans  NumberOfTimes90DaysLate  \\\n",
       "0                               13                        0   \n",
       "1                                4                        0   \n",
       "2                                2                        1   \n",
       "3                                5                        0   \n",
       "4                                7                        0   \n",
       "\n",
       "   NumberRealEstateLoansOrLines  NumberOfTime60-89DaysPastDueNotWorse  \\\n",
       "0                             6                                     0   \n",
       "1                             0                                     0   \n",
       "2                             0                                     0   \n",
       "3                             0                                     0   \n",
       "4                             1                                     0   \n",
       "\n",
       "   NumberOfDependents  \n",
       "0                 2.0  \n",
       "1                 1.0  \n",
       "2                 0.0  \n",
       "3                 0.0  \n",
       "4                 0.0  "
      ]
     },
     "execution_count": 4,
     "metadata": {},
     "output_type": "execute_result"
    }
   ],
   "source": [
    "train_df.head()"
   ]
  },
  {
   "cell_type": "code",
   "execution_count": 5,
   "id": "cdee3051",
   "metadata": {
    "scrolled": true
   },
   "outputs": [
    {
     "data": {
      "text/html": [
       "<div>\n",
       "<style scoped>\n",
       "    .dataframe tbody tr th:only-of-type {\n",
       "        vertical-align: middle;\n",
       "    }\n",
       "\n",
       "    .dataframe tbody tr th {\n",
       "        vertical-align: top;\n",
       "    }\n",
       "\n",
       "    .dataframe thead th {\n",
       "        text-align: right;\n",
       "    }\n",
       "</style>\n",
       "<table border=\"1\" class=\"dataframe\">\n",
       "  <thead>\n",
       "    <tr style=\"text-align: right;\">\n",
       "      <th></th>\n",
       "      <th>Unnamed: 0</th>\n",
       "      <th>SeriousDlqin2yrs</th>\n",
       "      <th>RevolvingUtilizationOfUnsecuredLines</th>\n",
       "      <th>age</th>\n",
       "      <th>NumberOfTime30-59DaysPastDueNotWorse</th>\n",
       "      <th>DebtRatio</th>\n",
       "      <th>MonthlyIncome</th>\n",
       "      <th>NumberOfOpenCreditLinesAndLoans</th>\n",
       "      <th>NumberOfTimes90DaysLate</th>\n",
       "      <th>NumberRealEstateLoansOrLines</th>\n",
       "      <th>NumberOfTime60-89DaysPastDueNotWorse</th>\n",
       "      <th>NumberOfDependents</th>\n",
       "    </tr>\n",
       "  </thead>\n",
       "  <tbody>\n",
       "    <tr>\n",
       "      <th>149995</th>\n",
       "      <td>149996</td>\n",
       "      <td>0</td>\n",
       "      <td>0.040674</td>\n",
       "      <td>74</td>\n",
       "      <td>0</td>\n",
       "      <td>0.225131</td>\n",
       "      <td>2100.0</td>\n",
       "      <td>4</td>\n",
       "      <td>0</td>\n",
       "      <td>1</td>\n",
       "      <td>0</td>\n",
       "      <td>0.0</td>\n",
       "    </tr>\n",
       "    <tr>\n",
       "      <th>149996</th>\n",
       "      <td>149997</td>\n",
       "      <td>0</td>\n",
       "      <td>0.299745</td>\n",
       "      <td>44</td>\n",
       "      <td>0</td>\n",
       "      <td>0.716562</td>\n",
       "      <td>5584.0</td>\n",
       "      <td>4</td>\n",
       "      <td>0</td>\n",
       "      <td>1</td>\n",
       "      <td>0</td>\n",
       "      <td>2.0</td>\n",
       "    </tr>\n",
       "    <tr>\n",
       "      <th>149997</th>\n",
       "      <td>149998</td>\n",
       "      <td>0</td>\n",
       "      <td>0.246044</td>\n",
       "      <td>58</td>\n",
       "      <td>0</td>\n",
       "      <td>3870.000000</td>\n",
       "      <td>NaN</td>\n",
       "      <td>18</td>\n",
       "      <td>0</td>\n",
       "      <td>1</td>\n",
       "      <td>0</td>\n",
       "      <td>0.0</td>\n",
       "    </tr>\n",
       "    <tr>\n",
       "      <th>149998</th>\n",
       "      <td>149999</td>\n",
       "      <td>0</td>\n",
       "      <td>0.000000</td>\n",
       "      <td>30</td>\n",
       "      <td>0</td>\n",
       "      <td>0.000000</td>\n",
       "      <td>5716.0</td>\n",
       "      <td>4</td>\n",
       "      <td>0</td>\n",
       "      <td>0</td>\n",
       "      <td>0</td>\n",
       "      <td>0.0</td>\n",
       "    </tr>\n",
       "    <tr>\n",
       "      <th>149999</th>\n",
       "      <td>150000</td>\n",
       "      <td>0</td>\n",
       "      <td>0.850283</td>\n",
       "      <td>64</td>\n",
       "      <td>0</td>\n",
       "      <td>0.249908</td>\n",
       "      <td>8158.0</td>\n",
       "      <td>8</td>\n",
       "      <td>0</td>\n",
       "      <td>2</td>\n",
       "      <td>0</td>\n",
       "      <td>0.0</td>\n",
       "    </tr>\n",
       "  </tbody>\n",
       "</table>\n",
       "</div>"
      ],
      "text/plain": [
       "        Unnamed: 0  SeriousDlqin2yrs  RevolvingUtilizationOfUnsecuredLines  \\\n",
       "149995      149996                 0                              0.040674   \n",
       "149996      149997                 0                              0.299745   \n",
       "149997      149998                 0                              0.246044   \n",
       "149998      149999                 0                              0.000000   \n",
       "149999      150000                 0                              0.850283   \n",
       "\n",
       "        age  NumberOfTime30-59DaysPastDueNotWorse    DebtRatio  MonthlyIncome  \\\n",
       "149995   74                                     0     0.225131         2100.0   \n",
       "149996   44                                     0     0.716562         5584.0   \n",
       "149997   58                                     0  3870.000000            NaN   \n",
       "149998   30                                     0     0.000000         5716.0   \n",
       "149999   64                                     0     0.249908         8158.0   \n",
       "\n",
       "        NumberOfOpenCreditLinesAndLoans  NumberOfTimes90DaysLate  \\\n",
       "149995                                4                        0   \n",
       "149996                                4                        0   \n",
       "149997                               18                        0   \n",
       "149998                                4                        0   \n",
       "149999                                8                        0   \n",
       "\n",
       "        NumberRealEstateLoansOrLines  NumberOfTime60-89DaysPastDueNotWorse  \\\n",
       "149995                             1                                     0   \n",
       "149996                             1                                     0   \n",
       "149997                             1                                     0   \n",
       "149998                             0                                     0   \n",
       "149999                             2                                     0   \n",
       "\n",
       "        NumberOfDependents  \n",
       "149995                 0.0  \n",
       "149996                 2.0  \n",
       "149997                 0.0  \n",
       "149998                 0.0  \n",
       "149999                 0.0  "
      ]
     },
     "execution_count": 5,
     "metadata": {},
     "output_type": "execute_result"
    }
   ],
   "source": [
    "train_df.tail()"
   ]
  },
  {
   "cell_type": "code",
   "execution_count": 6,
   "id": "f6a7fc1a",
   "metadata": {},
   "outputs": [
    {
     "data": {
      "text/plain": [
       "(150000, 12)"
      ]
     },
     "execution_count": 6,
     "metadata": {},
     "output_type": "execute_result"
    }
   ],
   "source": [
    "train_df.shape"
   ]
  },
  {
   "cell_type": "code",
   "execution_count": 7,
   "id": "39311e9a",
   "metadata": {},
   "outputs": [
    {
     "data": {
      "text/html": [
       "<div>\n",
       "<style scoped>\n",
       "    .dataframe tbody tr th:only-of-type {\n",
       "        vertical-align: middle;\n",
       "    }\n",
       "\n",
       "    .dataframe tbody tr th {\n",
       "        vertical-align: top;\n",
       "    }\n",
       "\n",
       "    .dataframe thead th {\n",
       "        text-align: right;\n",
       "    }\n",
       "</style>\n",
       "<table border=\"1\" class=\"dataframe\">\n",
       "  <thead>\n",
       "    <tr style=\"text-align: right;\">\n",
       "      <th></th>\n",
       "      <th>Unnamed: 0</th>\n",
       "      <th>SeriousDlqin2yrs</th>\n",
       "      <th>RevolvingUtilizationOfUnsecuredLines</th>\n",
       "      <th>age</th>\n",
       "      <th>NumberOfTime30-59DaysPastDueNotWorse</th>\n",
       "      <th>DebtRatio</th>\n",
       "      <th>MonthlyIncome</th>\n",
       "      <th>NumberOfOpenCreditLinesAndLoans</th>\n",
       "      <th>NumberOfTimes90DaysLate</th>\n",
       "      <th>NumberRealEstateLoansOrLines</th>\n",
       "      <th>NumberOfTime60-89DaysPastDueNotWorse</th>\n",
       "      <th>NumberOfDependents</th>\n",
       "    </tr>\n",
       "  </thead>\n",
       "  <tbody>\n",
       "    <tr>\n",
       "      <th>0</th>\n",
       "      <td>1</td>\n",
       "      <td>NaN</td>\n",
       "      <td>0.885519</td>\n",
       "      <td>43</td>\n",
       "      <td>0</td>\n",
       "      <td>0.177513</td>\n",
       "      <td>5700.0</td>\n",
       "      <td>4</td>\n",
       "      <td>0</td>\n",
       "      <td>0</td>\n",
       "      <td>0</td>\n",
       "      <td>0.0</td>\n",
       "    </tr>\n",
       "    <tr>\n",
       "      <th>1</th>\n",
       "      <td>2</td>\n",
       "      <td>NaN</td>\n",
       "      <td>0.463295</td>\n",
       "      <td>57</td>\n",
       "      <td>0</td>\n",
       "      <td>0.527237</td>\n",
       "      <td>9141.0</td>\n",
       "      <td>15</td>\n",
       "      <td>0</td>\n",
       "      <td>4</td>\n",
       "      <td>0</td>\n",
       "      <td>2.0</td>\n",
       "    </tr>\n",
       "    <tr>\n",
       "      <th>2</th>\n",
       "      <td>3</td>\n",
       "      <td>NaN</td>\n",
       "      <td>0.043275</td>\n",
       "      <td>59</td>\n",
       "      <td>0</td>\n",
       "      <td>0.687648</td>\n",
       "      <td>5083.0</td>\n",
       "      <td>12</td>\n",
       "      <td>0</td>\n",
       "      <td>1</td>\n",
       "      <td>0</td>\n",
       "      <td>2.0</td>\n",
       "    </tr>\n",
       "    <tr>\n",
       "      <th>3</th>\n",
       "      <td>4</td>\n",
       "      <td>NaN</td>\n",
       "      <td>0.280308</td>\n",
       "      <td>38</td>\n",
       "      <td>1</td>\n",
       "      <td>0.925961</td>\n",
       "      <td>3200.0</td>\n",
       "      <td>7</td>\n",
       "      <td>0</td>\n",
       "      <td>2</td>\n",
       "      <td>0</td>\n",
       "      <td>0.0</td>\n",
       "    </tr>\n",
       "    <tr>\n",
       "      <th>4</th>\n",
       "      <td>5</td>\n",
       "      <td>NaN</td>\n",
       "      <td>1.000000</td>\n",
       "      <td>27</td>\n",
       "      <td>0</td>\n",
       "      <td>0.019917</td>\n",
       "      <td>3865.0</td>\n",
       "      <td>4</td>\n",
       "      <td>0</td>\n",
       "      <td>0</td>\n",
       "      <td>0</td>\n",
       "      <td>1.0</td>\n",
       "    </tr>\n",
       "  </tbody>\n",
       "</table>\n",
       "</div>"
      ],
      "text/plain": [
       "   Unnamed: 0  SeriousDlqin2yrs  RevolvingUtilizationOfUnsecuredLines  age  \\\n",
       "0           1               NaN                              0.885519   43   \n",
       "1           2               NaN                              0.463295   57   \n",
       "2           3               NaN                              0.043275   59   \n",
       "3           4               NaN                              0.280308   38   \n",
       "4           5               NaN                              1.000000   27   \n",
       "\n",
       "   NumberOfTime30-59DaysPastDueNotWorse  DebtRatio  MonthlyIncome  \\\n",
       "0                                     0   0.177513         5700.0   \n",
       "1                                     0   0.527237         9141.0   \n",
       "2                                     0   0.687648         5083.0   \n",
       "3                                     1   0.925961         3200.0   \n",
       "4                                     0   0.019917         3865.0   \n",
       "\n",
       "   NumberOfOpenCreditLinesAndLoans  NumberOfTimes90DaysLate  \\\n",
       "0                                4                        0   \n",
       "1                               15                        0   \n",
       "2                               12                        0   \n",
       "3                                7                        0   \n",
       "4                                4                        0   \n",
       "\n",
       "   NumberRealEstateLoansOrLines  NumberOfTime60-89DaysPastDueNotWorse  \\\n",
       "0                             0                                     0   \n",
       "1                             4                                     0   \n",
       "2                             1                                     0   \n",
       "3                             2                                     0   \n",
       "4                             0                                     0   \n",
       "\n",
       "   NumberOfDependents  \n",
       "0                 0.0  \n",
       "1                 2.0  \n",
       "2                 2.0  \n",
       "3                 0.0  \n",
       "4                 1.0  "
      ]
     },
     "execution_count": 7,
     "metadata": {},
     "output_type": "execute_result"
    }
   ],
   "source": [
    "test_df.head()"
   ]
  },
  {
   "cell_type": "code",
   "execution_count": 8,
   "id": "ae6f42ff",
   "metadata": {},
   "outputs": [
    {
     "data": {
      "text/html": [
       "<div>\n",
       "<style scoped>\n",
       "    .dataframe tbody tr th:only-of-type {\n",
       "        vertical-align: middle;\n",
       "    }\n",
       "\n",
       "    .dataframe tbody tr th {\n",
       "        vertical-align: top;\n",
       "    }\n",
       "\n",
       "    .dataframe thead th {\n",
       "        text-align: right;\n",
       "    }\n",
       "</style>\n",
       "<table border=\"1\" class=\"dataframe\">\n",
       "  <thead>\n",
       "    <tr style=\"text-align: right;\">\n",
       "      <th></th>\n",
       "      <th>Unnamed: 0</th>\n",
       "      <th>SeriousDlqin2yrs</th>\n",
       "      <th>RevolvingUtilizationOfUnsecuredLines</th>\n",
       "      <th>age</th>\n",
       "      <th>NumberOfTime30-59DaysPastDueNotWorse</th>\n",
       "      <th>DebtRatio</th>\n",
       "      <th>MonthlyIncome</th>\n",
       "      <th>NumberOfOpenCreditLinesAndLoans</th>\n",
       "      <th>NumberOfTimes90DaysLate</th>\n",
       "      <th>NumberRealEstateLoansOrLines</th>\n",
       "      <th>NumberOfTime60-89DaysPastDueNotWorse</th>\n",
       "      <th>NumberOfDependents</th>\n",
       "    </tr>\n",
       "  </thead>\n",
       "  <tbody>\n",
       "    <tr>\n",
       "      <th>101498</th>\n",
       "      <td>101499</td>\n",
       "      <td>NaN</td>\n",
       "      <td>0.282653</td>\n",
       "      <td>24</td>\n",
       "      <td>0</td>\n",
       "      <td>0.068522</td>\n",
       "      <td>1400.0</td>\n",
       "      <td>5</td>\n",
       "      <td>0</td>\n",
       "      <td>0</td>\n",
       "      <td>0</td>\n",
       "      <td>0.0</td>\n",
       "    </tr>\n",
       "    <tr>\n",
       "      <th>101499</th>\n",
       "      <td>101500</td>\n",
       "      <td>NaN</td>\n",
       "      <td>0.922156</td>\n",
       "      <td>36</td>\n",
       "      <td>3</td>\n",
       "      <td>0.934217</td>\n",
       "      <td>7615.0</td>\n",
       "      <td>8</td>\n",
       "      <td>0</td>\n",
       "      <td>2</td>\n",
       "      <td>0</td>\n",
       "      <td>4.0</td>\n",
       "    </tr>\n",
       "    <tr>\n",
       "      <th>101500</th>\n",
       "      <td>101501</td>\n",
       "      <td>NaN</td>\n",
       "      <td>0.081596</td>\n",
       "      <td>70</td>\n",
       "      <td>0</td>\n",
       "      <td>836.000000</td>\n",
       "      <td>NaN</td>\n",
       "      <td>3</td>\n",
       "      <td>0</td>\n",
       "      <td>0</td>\n",
       "      <td>0</td>\n",
       "      <td>NaN</td>\n",
       "    </tr>\n",
       "    <tr>\n",
       "      <th>101501</th>\n",
       "      <td>101502</td>\n",
       "      <td>NaN</td>\n",
       "      <td>0.335457</td>\n",
       "      <td>56</td>\n",
       "      <td>0</td>\n",
       "      <td>3568.000000</td>\n",
       "      <td>NaN</td>\n",
       "      <td>8</td>\n",
       "      <td>0</td>\n",
       "      <td>2</td>\n",
       "      <td>1</td>\n",
       "      <td>3.0</td>\n",
       "    </tr>\n",
       "    <tr>\n",
       "      <th>101502</th>\n",
       "      <td>101503</td>\n",
       "      <td>NaN</td>\n",
       "      <td>0.441842</td>\n",
       "      <td>29</td>\n",
       "      <td>0</td>\n",
       "      <td>0.198918</td>\n",
       "      <td>5916.0</td>\n",
       "      <td>12</td>\n",
       "      <td>0</td>\n",
       "      <td>0</td>\n",
       "      <td>0</td>\n",
       "      <td>0.0</td>\n",
       "    </tr>\n",
       "  </tbody>\n",
       "</table>\n",
       "</div>"
      ],
      "text/plain": [
       "        Unnamed: 0  SeriousDlqin2yrs  RevolvingUtilizationOfUnsecuredLines  \\\n",
       "101498      101499               NaN                              0.282653   \n",
       "101499      101500               NaN                              0.922156   \n",
       "101500      101501               NaN                              0.081596   \n",
       "101501      101502               NaN                              0.335457   \n",
       "101502      101503               NaN                              0.441842   \n",
       "\n",
       "        age  NumberOfTime30-59DaysPastDueNotWorse    DebtRatio  MonthlyIncome  \\\n",
       "101498   24                                     0     0.068522         1400.0   \n",
       "101499   36                                     3     0.934217         7615.0   \n",
       "101500   70                                     0   836.000000            NaN   \n",
       "101501   56                                     0  3568.000000            NaN   \n",
       "101502   29                                     0     0.198918         5916.0   \n",
       "\n",
       "        NumberOfOpenCreditLinesAndLoans  NumberOfTimes90DaysLate  \\\n",
       "101498                                5                        0   \n",
       "101499                                8                        0   \n",
       "101500                                3                        0   \n",
       "101501                                8                        0   \n",
       "101502                               12                        0   \n",
       "\n",
       "        NumberRealEstateLoansOrLines  NumberOfTime60-89DaysPastDueNotWorse  \\\n",
       "101498                             0                                     0   \n",
       "101499                             2                                     0   \n",
       "101500                             0                                     0   \n",
       "101501                             2                                     1   \n",
       "101502                             0                                     0   \n",
       "\n",
       "        NumberOfDependents  \n",
       "101498                 0.0  \n",
       "101499                 4.0  \n",
       "101500                 NaN  \n",
       "101501                 3.0  \n",
       "101502                 0.0  "
      ]
     },
     "execution_count": 8,
     "metadata": {},
     "output_type": "execute_result"
    }
   ],
   "source": [
    "test_df.tail()"
   ]
  },
  {
   "cell_type": "code",
   "execution_count": 9,
   "id": "ac311a48",
   "metadata": {},
   "outputs": [
    {
     "data": {
      "text/plain": [
       "(101503, 12)"
      ]
     },
     "execution_count": 9,
     "metadata": {},
     "output_type": "execute_result"
    }
   ],
   "source": [
    "test_df.shape"
   ]
  },
  {
   "cell_type": "markdown",
   "id": "f43656b9",
   "metadata": {},
   "source": [
    "## 3. Exploratory Data Analysis\n",
    "- Check info such as shape, size, axes, index, columns, info, describe, etc"
   ]
  },
  {
   "cell_type": "markdown",
   "id": "3e022dac",
   "metadata": {},
   "source": [
    "#### Shape"
   ]
  },
  {
   "cell_type": "code",
   "execution_count": 10,
   "id": "6ba6e3d3",
   "metadata": {},
   "outputs": [
    {
     "data": {
      "text/plain": [
       "(150000, 12)"
      ]
     },
     "execution_count": 10,
     "metadata": {},
     "output_type": "execute_result"
    }
   ],
   "source": [
    "train_df.shape"
   ]
  },
  {
   "cell_type": "code",
   "execution_count": 11,
   "id": "58c6018c",
   "metadata": {
    "scrolled": true
   },
   "outputs": [
    {
     "data": {
      "text/plain": [
       "(101503, 12)"
      ]
     },
     "execution_count": 11,
     "metadata": {},
     "output_type": "execute_result"
    }
   ],
   "source": [
    "test_df.shape"
   ]
  },
  {
   "cell_type": "markdown",
   "id": "ae837401",
   "metadata": {},
   "source": [
    "#### Size"
   ]
  },
  {
   "cell_type": "code",
   "execution_count": 12,
   "id": "bc87b61f",
   "metadata": {},
   "outputs": [
    {
     "data": {
      "text/plain": [
       "1800000"
      ]
     },
     "execution_count": 12,
     "metadata": {},
     "output_type": "execute_result"
    }
   ],
   "source": [
    "train_df.size"
   ]
  },
  {
   "cell_type": "code",
   "execution_count": 13,
   "id": "d9958899",
   "metadata": {},
   "outputs": [
    {
     "data": {
      "text/plain": [
       "1218036"
      ]
     },
     "execution_count": 13,
     "metadata": {},
     "output_type": "execute_result"
    }
   ],
   "source": [
    "test_df.size"
   ]
  },
  {
   "cell_type": "markdown",
   "id": "e1bcccc7",
   "metadata": {},
   "source": [
    "#### axes"
   ]
  },
  {
   "cell_type": "code",
   "execution_count": 14,
   "id": "49e1201c",
   "metadata": {},
   "outputs": [
    {
     "data": {
      "text/plain": [
       "[RangeIndex(start=0, stop=150000, step=1),\n",
       " Index(['Unnamed: 0', 'SeriousDlqin2yrs',\n",
       "        'RevolvingUtilizationOfUnsecuredLines', 'age',\n",
       "        'NumberOfTime30-59DaysPastDueNotWorse', 'DebtRatio', 'MonthlyIncome',\n",
       "        'NumberOfOpenCreditLinesAndLoans', 'NumberOfTimes90DaysLate',\n",
       "        'NumberRealEstateLoansOrLines', 'NumberOfTime60-89DaysPastDueNotWorse',\n",
       "        'NumberOfDependents'],\n",
       "       dtype='object')]"
      ]
     },
     "execution_count": 14,
     "metadata": {},
     "output_type": "execute_result"
    }
   ],
   "source": [
    "train_df.axes"
   ]
  },
  {
   "cell_type": "markdown",
   "id": "74dee1c5",
   "metadata": {},
   "source": [
    "#### columns"
   ]
  },
  {
   "cell_type": "code",
   "execution_count": 15,
   "id": "2078313b",
   "metadata": {
    "scrolled": true
   },
   "outputs": [
    {
     "data": {
      "text/plain": [
       "Index(['Unnamed: 0', 'SeriousDlqin2yrs',\n",
       "       'RevolvingUtilizationOfUnsecuredLines', 'age',\n",
       "       'NumberOfTime30-59DaysPastDueNotWorse', 'DebtRatio', 'MonthlyIncome',\n",
       "       'NumberOfOpenCreditLinesAndLoans', 'NumberOfTimes90DaysLate',\n",
       "       'NumberRealEstateLoansOrLines', 'NumberOfTime60-89DaysPastDueNotWorse',\n",
       "       'NumberOfDependents'],\n",
       "      dtype='object')"
      ]
     },
     "execution_count": 15,
     "metadata": {},
     "output_type": "execute_result"
    }
   ],
   "source": [
    "train_df.columns"
   ]
  },
  {
   "cell_type": "code",
   "execution_count": 16,
   "id": "b2eab5e2",
   "metadata": {
    "scrolled": true
   },
   "outputs": [],
   "source": [
    "train_df.drop([\"Unnamed: 0\"], axis=1, inplace=True)\n",
    "test_df.drop(['Unnamed: 0'], axis=1, inplace=True)"
   ]
  },
  {
   "cell_type": "code",
   "execution_count": 17,
   "id": "3b1208ca",
   "metadata": {},
   "outputs": [
    {
     "data": {
      "text/plain": [
       "[RangeIndex(start=0, stop=150000, step=1),\n",
       " Index(['SeriousDlqin2yrs', 'RevolvingUtilizationOfUnsecuredLines', 'age',\n",
       "        'NumberOfTime30-59DaysPastDueNotWorse', 'DebtRatio', 'MonthlyIncome',\n",
       "        'NumberOfOpenCreditLinesAndLoans', 'NumberOfTimes90DaysLate',\n",
       "        'NumberRealEstateLoansOrLines', 'NumberOfTime60-89DaysPastDueNotWorse',\n",
       "        'NumberOfDependents'],\n",
       "       dtype='object')]"
      ]
     },
     "execution_count": 17,
     "metadata": {},
     "output_type": "execute_result"
    }
   ],
   "source": [
    "train_df.axes"
   ]
  },
  {
   "cell_type": "code",
   "execution_count": 18,
   "id": "5720dd27",
   "metadata": {
    "scrolled": true
   },
   "outputs": [
    {
     "data": {
      "text/plain": [
       "[RangeIndex(start=0, stop=101503, step=1),\n",
       " Index(['SeriousDlqin2yrs', 'RevolvingUtilizationOfUnsecuredLines', 'age',\n",
       "        'NumberOfTime30-59DaysPastDueNotWorse', 'DebtRatio', 'MonthlyIncome',\n",
       "        'NumberOfOpenCreditLinesAndLoans', 'NumberOfTimes90DaysLate',\n",
       "        'NumberRealEstateLoansOrLines', 'NumberOfTime60-89DaysPastDueNotWorse',\n",
       "        'NumberOfDependents'],\n",
       "       dtype='object')]"
      ]
     },
     "execution_count": 18,
     "metadata": {},
     "output_type": "execute_result"
    }
   ],
   "source": [
    "test_df.axes"
   ]
  },
  {
   "cell_type": "markdown",
   "id": "7eef3b7a",
   "metadata": {},
   "source": [
    "#### index"
   ]
  },
  {
   "cell_type": "code",
   "execution_count": 19,
   "id": "095b2f9c",
   "metadata": {
    "scrolled": true
   },
   "outputs": [
    {
     "data": {
      "text/plain": [
       "RangeIndex(start=0, stop=150000, step=1)"
      ]
     },
     "execution_count": 19,
     "metadata": {},
     "output_type": "execute_result"
    }
   ],
   "source": [
    "train_df.index"
   ]
  },
  {
   "cell_type": "code",
   "execution_count": 20,
   "id": "2ad51a6a",
   "metadata": {},
   "outputs": [
    {
     "data": {
      "text/plain": [
       "RangeIndex(start=0, stop=101503, step=1)"
      ]
     },
     "execution_count": 20,
     "metadata": {},
     "output_type": "execute_result"
    }
   ],
   "source": [
    "test_df.index"
   ]
  },
  {
   "cell_type": "markdown",
   "id": "fd7853f0",
   "metadata": {},
   "source": [
    "#### Check info(non-null count, data type)"
   ]
  },
  {
   "cell_type": "code",
   "execution_count": 21,
   "id": "1ceeba19",
   "metadata": {},
   "outputs": [
    {
     "name": "stdout",
     "output_type": "stream",
     "text": [
      "<class 'pandas.core.frame.DataFrame'>\n",
      "RangeIndex: 150000 entries, 0 to 149999\n",
      "Data columns (total 11 columns):\n",
      " #   Column                                Non-Null Count   Dtype  \n",
      "---  ------                                --------------   -----  \n",
      " 0   SeriousDlqin2yrs                      150000 non-null  int64  \n",
      " 1   RevolvingUtilizationOfUnsecuredLines  150000 non-null  float64\n",
      " 2   age                                   150000 non-null  int64  \n",
      " 3   NumberOfTime30-59DaysPastDueNotWorse  150000 non-null  int64  \n",
      " 4   DebtRatio                             150000 non-null  float64\n",
      " 5   MonthlyIncome                         120269 non-null  float64\n",
      " 6   NumberOfOpenCreditLinesAndLoans       150000 non-null  int64  \n",
      " 7   NumberOfTimes90DaysLate               150000 non-null  int64  \n",
      " 8   NumberRealEstateLoansOrLines          150000 non-null  int64  \n",
      " 9   NumberOfTime60-89DaysPastDueNotWorse  150000 non-null  int64  \n",
      " 10  NumberOfDependents                    146076 non-null  float64\n",
      "dtypes: float64(4), int64(7)\n",
      "memory usage: 12.6 MB\n"
     ]
    }
   ],
   "source": [
    "train_df.info()"
   ]
  },
  {
   "cell_type": "code",
   "execution_count": 22,
   "id": "74314846",
   "metadata": {
    "scrolled": true
   },
   "outputs": [
    {
     "name": "stdout",
     "output_type": "stream",
     "text": [
      "<class 'pandas.core.frame.DataFrame'>\n",
      "RangeIndex: 101503 entries, 0 to 101502\n",
      "Data columns (total 11 columns):\n",
      " #   Column                                Non-Null Count   Dtype  \n",
      "---  ------                                --------------   -----  \n",
      " 0   SeriousDlqin2yrs                      0 non-null       float64\n",
      " 1   RevolvingUtilizationOfUnsecuredLines  101503 non-null  float64\n",
      " 2   age                                   101503 non-null  int64  \n",
      " 3   NumberOfTime30-59DaysPastDueNotWorse  101503 non-null  int64  \n",
      " 4   DebtRatio                             101503 non-null  float64\n",
      " 5   MonthlyIncome                         81400 non-null   float64\n",
      " 6   NumberOfOpenCreditLinesAndLoans       101503 non-null  int64  \n",
      " 7   NumberOfTimes90DaysLate               101503 non-null  int64  \n",
      " 8   NumberRealEstateLoansOrLines          101503 non-null  int64  \n",
      " 9   NumberOfTime60-89DaysPastDueNotWorse  101503 non-null  int64  \n",
      " 10  NumberOfDependents                    98877 non-null   float64\n",
      "dtypes: float64(5), int64(6)\n",
      "memory usage: 8.5 MB\n"
     ]
    }
   ],
   "source": [
    "test_df.info()"
   ]
  },
  {
   "cell_type": "markdown",
   "id": "5086c231",
   "metadata": {},
   "source": [
    "#### describe"
   ]
  },
  {
   "cell_type": "code",
   "execution_count": 23,
   "id": "33337e5d",
   "metadata": {},
   "outputs": [
    {
     "data": {
      "text/html": [
       "<div>\n",
       "<style scoped>\n",
       "    .dataframe tbody tr th:only-of-type {\n",
       "        vertical-align: middle;\n",
       "    }\n",
       "\n",
       "    .dataframe tbody tr th {\n",
       "        vertical-align: top;\n",
       "    }\n",
       "\n",
       "    .dataframe thead th {\n",
       "        text-align: right;\n",
       "    }\n",
       "</style>\n",
       "<table border=\"1\" class=\"dataframe\">\n",
       "  <thead>\n",
       "    <tr style=\"text-align: right;\">\n",
       "      <th></th>\n",
       "      <th>SeriousDlqin2yrs</th>\n",
       "      <th>RevolvingUtilizationOfUnsecuredLines</th>\n",
       "      <th>age</th>\n",
       "      <th>NumberOfTime30-59DaysPastDueNotWorse</th>\n",
       "      <th>DebtRatio</th>\n",
       "      <th>MonthlyIncome</th>\n",
       "      <th>NumberOfOpenCreditLinesAndLoans</th>\n",
       "      <th>NumberOfTimes90DaysLate</th>\n",
       "      <th>NumberRealEstateLoansOrLines</th>\n",
       "      <th>NumberOfTime60-89DaysPastDueNotWorse</th>\n",
       "      <th>NumberOfDependents</th>\n",
       "    </tr>\n",
       "  </thead>\n",
       "  <tbody>\n",
       "    <tr>\n",
       "      <th>count</th>\n",
       "      <td>150000.000000</td>\n",
       "      <td>150000.000000</td>\n",
       "      <td>150000.000000</td>\n",
       "      <td>150000.000000</td>\n",
       "      <td>150000.000000</td>\n",
       "      <td>1.202690e+05</td>\n",
       "      <td>150000.000000</td>\n",
       "      <td>150000.000000</td>\n",
       "      <td>150000.000000</td>\n",
       "      <td>150000.000000</td>\n",
       "      <td>146076.000000</td>\n",
       "    </tr>\n",
       "    <tr>\n",
       "      <th>mean</th>\n",
       "      <td>0.066840</td>\n",
       "      <td>6.048438</td>\n",
       "      <td>52.295207</td>\n",
       "      <td>0.421033</td>\n",
       "      <td>353.005076</td>\n",
       "      <td>6.670221e+03</td>\n",
       "      <td>8.452760</td>\n",
       "      <td>0.265973</td>\n",
       "      <td>1.018240</td>\n",
       "      <td>0.240387</td>\n",
       "      <td>0.757222</td>\n",
       "    </tr>\n",
       "    <tr>\n",
       "      <th>std</th>\n",
       "      <td>0.249746</td>\n",
       "      <td>249.755371</td>\n",
       "      <td>14.771866</td>\n",
       "      <td>4.192781</td>\n",
       "      <td>2037.818523</td>\n",
       "      <td>1.438467e+04</td>\n",
       "      <td>5.145951</td>\n",
       "      <td>4.169304</td>\n",
       "      <td>1.129771</td>\n",
       "      <td>4.155179</td>\n",
       "      <td>1.115086</td>\n",
       "    </tr>\n",
       "    <tr>\n",
       "      <th>min</th>\n",
       "      <td>0.000000</td>\n",
       "      <td>0.000000</td>\n",
       "      <td>0.000000</td>\n",
       "      <td>0.000000</td>\n",
       "      <td>0.000000</td>\n",
       "      <td>0.000000e+00</td>\n",
       "      <td>0.000000</td>\n",
       "      <td>0.000000</td>\n",
       "      <td>0.000000</td>\n",
       "      <td>0.000000</td>\n",
       "      <td>0.000000</td>\n",
       "    </tr>\n",
       "    <tr>\n",
       "      <th>25%</th>\n",
       "      <td>0.000000</td>\n",
       "      <td>0.029867</td>\n",
       "      <td>41.000000</td>\n",
       "      <td>0.000000</td>\n",
       "      <td>0.175074</td>\n",
       "      <td>3.400000e+03</td>\n",
       "      <td>5.000000</td>\n",
       "      <td>0.000000</td>\n",
       "      <td>0.000000</td>\n",
       "      <td>0.000000</td>\n",
       "      <td>0.000000</td>\n",
       "    </tr>\n",
       "    <tr>\n",
       "      <th>50%</th>\n",
       "      <td>0.000000</td>\n",
       "      <td>0.154181</td>\n",
       "      <td>52.000000</td>\n",
       "      <td>0.000000</td>\n",
       "      <td>0.366508</td>\n",
       "      <td>5.400000e+03</td>\n",
       "      <td>8.000000</td>\n",
       "      <td>0.000000</td>\n",
       "      <td>1.000000</td>\n",
       "      <td>0.000000</td>\n",
       "      <td>0.000000</td>\n",
       "    </tr>\n",
       "    <tr>\n",
       "      <th>75%</th>\n",
       "      <td>0.000000</td>\n",
       "      <td>0.559046</td>\n",
       "      <td>63.000000</td>\n",
       "      <td>0.000000</td>\n",
       "      <td>0.868254</td>\n",
       "      <td>8.249000e+03</td>\n",
       "      <td>11.000000</td>\n",
       "      <td>0.000000</td>\n",
       "      <td>2.000000</td>\n",
       "      <td>0.000000</td>\n",
       "      <td>1.000000</td>\n",
       "    </tr>\n",
       "    <tr>\n",
       "      <th>max</th>\n",
       "      <td>1.000000</td>\n",
       "      <td>50708.000000</td>\n",
       "      <td>109.000000</td>\n",
       "      <td>98.000000</td>\n",
       "      <td>329664.000000</td>\n",
       "      <td>3.008750e+06</td>\n",
       "      <td>58.000000</td>\n",
       "      <td>98.000000</td>\n",
       "      <td>54.000000</td>\n",
       "      <td>98.000000</td>\n",
       "      <td>20.000000</td>\n",
       "    </tr>\n",
       "  </tbody>\n",
       "</table>\n",
       "</div>"
      ],
      "text/plain": [
       "       SeriousDlqin2yrs  RevolvingUtilizationOfUnsecuredLines            age  \\\n",
       "count     150000.000000                         150000.000000  150000.000000   \n",
       "mean           0.066840                              6.048438      52.295207   \n",
       "std            0.249746                            249.755371      14.771866   \n",
       "min            0.000000                              0.000000       0.000000   \n",
       "25%            0.000000                              0.029867      41.000000   \n",
       "50%            0.000000                              0.154181      52.000000   \n",
       "75%            0.000000                              0.559046      63.000000   \n",
       "max            1.000000                          50708.000000     109.000000   \n",
       "\n",
       "       NumberOfTime30-59DaysPastDueNotWorse      DebtRatio  MonthlyIncome  \\\n",
       "count                         150000.000000  150000.000000   1.202690e+05   \n",
       "mean                               0.421033     353.005076   6.670221e+03   \n",
       "std                                4.192781    2037.818523   1.438467e+04   \n",
       "min                                0.000000       0.000000   0.000000e+00   \n",
       "25%                                0.000000       0.175074   3.400000e+03   \n",
       "50%                                0.000000       0.366508   5.400000e+03   \n",
       "75%                                0.000000       0.868254   8.249000e+03   \n",
       "max                               98.000000  329664.000000   3.008750e+06   \n",
       "\n",
       "       NumberOfOpenCreditLinesAndLoans  NumberOfTimes90DaysLate  \\\n",
       "count                    150000.000000            150000.000000   \n",
       "mean                          8.452760                 0.265973   \n",
       "std                           5.145951                 4.169304   \n",
       "min                           0.000000                 0.000000   \n",
       "25%                           5.000000                 0.000000   \n",
       "50%                           8.000000                 0.000000   \n",
       "75%                          11.000000                 0.000000   \n",
       "max                          58.000000                98.000000   \n",
       "\n",
       "       NumberRealEstateLoansOrLines  NumberOfTime60-89DaysPastDueNotWorse  \\\n",
       "count                 150000.000000                         150000.000000   \n",
       "mean                       1.018240                              0.240387   \n",
       "std                        1.129771                              4.155179   \n",
       "min                        0.000000                              0.000000   \n",
       "25%                        0.000000                              0.000000   \n",
       "50%                        1.000000                              0.000000   \n",
       "75%                        2.000000                              0.000000   \n",
       "max                       54.000000                             98.000000   \n",
       "\n",
       "       NumberOfDependents  \n",
       "count       146076.000000  \n",
       "mean             0.757222  \n",
       "std              1.115086  \n",
       "min              0.000000  \n",
       "25%              0.000000  \n",
       "50%              0.000000  \n",
       "75%              1.000000  \n",
       "max             20.000000  "
      ]
     },
     "execution_count": 23,
     "metadata": {},
     "output_type": "execute_result"
    }
   ],
   "source": [
    "train_df.describe()"
   ]
  },
  {
   "cell_type": "code",
   "execution_count": 24,
   "id": "0d8bb1ab",
   "metadata": {},
   "outputs": [
    {
     "data": {
      "text/html": [
       "<div>\n",
       "<style scoped>\n",
       "    .dataframe tbody tr th:only-of-type {\n",
       "        vertical-align: middle;\n",
       "    }\n",
       "\n",
       "    .dataframe tbody tr th {\n",
       "        vertical-align: top;\n",
       "    }\n",
       "\n",
       "    .dataframe thead th {\n",
       "        text-align: right;\n",
       "    }\n",
       "</style>\n",
       "<table border=\"1\" class=\"dataframe\">\n",
       "  <thead>\n",
       "    <tr style=\"text-align: right;\">\n",
       "      <th></th>\n",
       "      <th>SeriousDlqin2yrs</th>\n",
       "      <th>RevolvingUtilizationOfUnsecuredLines</th>\n",
       "      <th>age</th>\n",
       "      <th>NumberOfTime30-59DaysPastDueNotWorse</th>\n",
       "      <th>DebtRatio</th>\n",
       "      <th>MonthlyIncome</th>\n",
       "      <th>NumberOfOpenCreditLinesAndLoans</th>\n",
       "      <th>NumberOfTimes90DaysLate</th>\n",
       "      <th>NumberRealEstateLoansOrLines</th>\n",
       "      <th>NumberOfTime60-89DaysPastDueNotWorse</th>\n",
       "      <th>NumberOfDependents</th>\n",
       "    </tr>\n",
       "  </thead>\n",
       "  <tbody>\n",
       "    <tr>\n",
       "      <th>count</th>\n",
       "      <td>0.0</td>\n",
       "      <td>101503.000000</td>\n",
       "      <td>101503.000000</td>\n",
       "      <td>101503.000000</td>\n",
       "      <td>101503.000000</td>\n",
       "      <td>8.140000e+04</td>\n",
       "      <td>101503.000000</td>\n",
       "      <td>101503.000000</td>\n",
       "      <td>101503.000000</td>\n",
       "      <td>101503.000000</td>\n",
       "      <td>98877.000000</td>\n",
       "    </tr>\n",
       "    <tr>\n",
       "      <th>mean</th>\n",
       "      <td>NaN</td>\n",
       "      <td>5.310000</td>\n",
       "      <td>52.405436</td>\n",
       "      <td>0.453770</td>\n",
       "      <td>344.475020</td>\n",
       "      <td>6.855036e+03</td>\n",
       "      <td>8.453514</td>\n",
       "      <td>0.296691</td>\n",
       "      <td>1.013074</td>\n",
       "      <td>0.270317</td>\n",
       "      <td>0.769046</td>\n",
       "    </tr>\n",
       "    <tr>\n",
       "      <th>std</th>\n",
       "      <td>NaN</td>\n",
       "      <td>196.156039</td>\n",
       "      <td>14.779756</td>\n",
       "      <td>4.538487</td>\n",
       "      <td>1632.595231</td>\n",
       "      <td>3.650860e+04</td>\n",
       "      <td>5.144100</td>\n",
       "      <td>4.515859</td>\n",
       "      <td>1.110253</td>\n",
       "      <td>4.503578</td>\n",
       "      <td>1.136778</td>\n",
       "    </tr>\n",
       "    <tr>\n",
       "      <th>min</th>\n",
       "      <td>NaN</td>\n",
       "      <td>0.000000</td>\n",
       "      <td>21.000000</td>\n",
       "      <td>0.000000</td>\n",
       "      <td>0.000000</td>\n",
       "      <td>0.000000e+00</td>\n",
       "      <td>0.000000</td>\n",
       "      <td>0.000000</td>\n",
       "      <td>0.000000</td>\n",
       "      <td>0.000000</td>\n",
       "      <td>0.000000</td>\n",
       "    </tr>\n",
       "    <tr>\n",
       "      <th>25%</th>\n",
       "      <td>NaN</td>\n",
       "      <td>0.030131</td>\n",
       "      <td>41.000000</td>\n",
       "      <td>0.000000</td>\n",
       "      <td>0.173423</td>\n",
       "      <td>3.408000e+03</td>\n",
       "      <td>5.000000</td>\n",
       "      <td>0.000000</td>\n",
       "      <td>0.000000</td>\n",
       "      <td>0.000000</td>\n",
       "      <td>0.000000</td>\n",
       "    </tr>\n",
       "    <tr>\n",
       "      <th>50%</th>\n",
       "      <td>NaN</td>\n",
       "      <td>0.152586</td>\n",
       "      <td>52.000000</td>\n",
       "      <td>0.000000</td>\n",
       "      <td>0.364260</td>\n",
       "      <td>5.400000e+03</td>\n",
       "      <td>8.000000</td>\n",
       "      <td>0.000000</td>\n",
       "      <td>1.000000</td>\n",
       "      <td>0.000000</td>\n",
       "      <td>0.000000</td>\n",
       "    </tr>\n",
       "    <tr>\n",
       "      <th>75%</th>\n",
       "      <td>NaN</td>\n",
       "      <td>0.564225</td>\n",
       "      <td>63.000000</td>\n",
       "      <td>0.000000</td>\n",
       "      <td>0.851619</td>\n",
       "      <td>8.200000e+03</td>\n",
       "      <td>11.000000</td>\n",
       "      <td>0.000000</td>\n",
       "      <td>2.000000</td>\n",
       "      <td>0.000000</td>\n",
       "      <td>1.000000</td>\n",
       "    </tr>\n",
       "    <tr>\n",
       "      <th>max</th>\n",
       "      <td>NaN</td>\n",
       "      <td>21821.000000</td>\n",
       "      <td>104.000000</td>\n",
       "      <td>98.000000</td>\n",
       "      <td>268326.000000</td>\n",
       "      <td>7.727000e+06</td>\n",
       "      <td>85.000000</td>\n",
       "      <td>98.000000</td>\n",
       "      <td>37.000000</td>\n",
       "      <td>98.000000</td>\n",
       "      <td>43.000000</td>\n",
       "    </tr>\n",
       "  </tbody>\n",
       "</table>\n",
       "</div>"
      ],
      "text/plain": [
       "       SeriousDlqin2yrs  RevolvingUtilizationOfUnsecuredLines            age  \\\n",
       "count               0.0                         101503.000000  101503.000000   \n",
       "mean                NaN                              5.310000      52.405436   \n",
       "std                 NaN                            196.156039      14.779756   \n",
       "min                 NaN                              0.000000      21.000000   \n",
       "25%                 NaN                              0.030131      41.000000   \n",
       "50%                 NaN                              0.152586      52.000000   \n",
       "75%                 NaN                              0.564225      63.000000   \n",
       "max                 NaN                          21821.000000     104.000000   \n",
       "\n",
       "       NumberOfTime30-59DaysPastDueNotWorse      DebtRatio  MonthlyIncome  \\\n",
       "count                         101503.000000  101503.000000   8.140000e+04   \n",
       "mean                               0.453770     344.475020   6.855036e+03   \n",
       "std                                4.538487    1632.595231   3.650860e+04   \n",
       "min                                0.000000       0.000000   0.000000e+00   \n",
       "25%                                0.000000       0.173423   3.408000e+03   \n",
       "50%                                0.000000       0.364260   5.400000e+03   \n",
       "75%                                0.000000       0.851619   8.200000e+03   \n",
       "max                               98.000000  268326.000000   7.727000e+06   \n",
       "\n",
       "       NumberOfOpenCreditLinesAndLoans  NumberOfTimes90DaysLate  \\\n",
       "count                    101503.000000            101503.000000   \n",
       "mean                          8.453514                 0.296691   \n",
       "std                           5.144100                 4.515859   \n",
       "min                           0.000000                 0.000000   \n",
       "25%                           5.000000                 0.000000   \n",
       "50%                           8.000000                 0.000000   \n",
       "75%                          11.000000                 0.000000   \n",
       "max                          85.000000                98.000000   \n",
       "\n",
       "       NumberRealEstateLoansOrLines  NumberOfTime60-89DaysPastDueNotWorse  \\\n",
       "count                 101503.000000                         101503.000000   \n",
       "mean                       1.013074                              0.270317   \n",
       "std                        1.110253                              4.503578   \n",
       "min                        0.000000                              0.000000   \n",
       "25%                        0.000000                              0.000000   \n",
       "50%                        1.000000                              0.000000   \n",
       "75%                        2.000000                              0.000000   \n",
       "max                       37.000000                             98.000000   \n",
       "\n",
       "       NumberOfDependents  \n",
       "count        98877.000000  \n",
       "mean             0.769046  \n",
       "std              1.136778  \n",
       "min              0.000000  \n",
       "25%              0.000000  \n",
       "50%              0.000000  \n",
       "75%              1.000000  \n",
       "max             43.000000  "
      ]
     },
     "execution_count": 24,
     "metadata": {},
     "output_type": "execute_result"
    }
   ],
   "source": [
    "test_df.describe()"
   ]
  },
  {
   "cell_type": "markdown",
   "id": "18200614",
   "metadata": {},
   "source": [
    "#### Check columnwise missing values"
   ]
  },
  {
   "cell_type": "code",
   "execution_count": 25,
   "id": "dc0e401f",
   "metadata": {},
   "outputs": [
    {
     "data": {
      "text/plain": [
       "SeriousDlqin2yrs                            0\n",
       "RevolvingUtilizationOfUnsecuredLines        0\n",
       "age                                         0\n",
       "NumberOfTime30-59DaysPastDueNotWorse        0\n",
       "DebtRatio                                   0\n",
       "MonthlyIncome                           29731\n",
       "NumberOfOpenCreditLinesAndLoans             0\n",
       "NumberOfTimes90DaysLate                     0\n",
       "NumberRealEstateLoansOrLines                0\n",
       "NumberOfTime60-89DaysPastDueNotWorse        0\n",
       "NumberOfDependents                       3924\n",
       "dtype: int64"
      ]
     },
     "execution_count": 25,
     "metadata": {},
     "output_type": "execute_result"
    }
   ],
   "source": [
    "train_df.isnull().sum()"
   ]
  },
  {
   "cell_type": "code",
   "execution_count": 26,
   "id": "3a5ed33d",
   "metadata": {},
   "outputs": [
    {
     "data": {
      "text/plain": [
       "SeriousDlqin2yrs                        101503\n",
       "RevolvingUtilizationOfUnsecuredLines         0\n",
       "age                                          0\n",
       "NumberOfTime30-59DaysPastDueNotWorse         0\n",
       "DebtRatio                                    0\n",
       "MonthlyIncome                            20103\n",
       "NumberOfOpenCreditLinesAndLoans              0\n",
       "NumberOfTimes90DaysLate                      0\n",
       "NumberRealEstateLoansOrLines                 0\n",
       "NumberOfTime60-89DaysPastDueNotWorse         0\n",
       "NumberOfDependents                        2626\n",
       "dtype: int64"
      ]
     },
     "execution_count": 26,
     "metadata": {},
     "output_type": "execute_result"
    }
   ],
   "source": [
    "test_df.isnull().sum()"
   ]
  },
  {
   "cell_type": "markdown",
   "id": "465896f2",
   "metadata": {},
   "source": [
    "#### Missing values imputation"
   ]
  },
  {
   "cell_type": "markdown",
   "id": "f1d45fe4",
   "metadata": {},
   "source": [
    "###### `MonthlyIncome` imputation by mean"
   ]
  },
  {
   "cell_type": "code",
   "execution_count": 27,
   "id": "3ecb0370",
   "metadata": {},
   "outputs": [
    {
     "data": {
      "text/plain": [
       "5000.0     2757\n",
       "4000.0     2106\n",
       "6000.0     1934\n",
       "3000.0     1758\n",
       "0.0        1634\n",
       "           ... \n",
       "16084.0       1\n",
       "10523.0       1\n",
       "55250.0       1\n",
       "9242.0        1\n",
       "7647.0        1\n",
       "Name: MonthlyIncome, Length: 13594, dtype: int64"
      ]
     },
     "execution_count": 27,
     "metadata": {},
     "output_type": "execute_result"
    }
   ],
   "source": [
    "train_df['MonthlyIncome'].value_counts()"
   ]
  },
  {
   "cell_type": "code",
   "execution_count": 28,
   "id": "ca745075",
   "metadata": {},
   "outputs": [],
   "source": [
    "train_df['MonthlyIncome'].fillna(train_df['MonthlyIncome'].mean(), inplace=True)\n",
    "test_df['MonthlyIncome'].fillna(test_df['MonthlyIncome'].mean(), inplace=True)"
   ]
  },
  {
   "cell_type": "code",
   "execution_count": 29,
   "id": "692cac31",
   "metadata": {},
   "outputs": [
    {
     "data": {
      "text/plain": [
       "SeriousDlqin2yrs                           0\n",
       "RevolvingUtilizationOfUnsecuredLines       0\n",
       "age                                        0\n",
       "NumberOfTime30-59DaysPastDueNotWorse       0\n",
       "DebtRatio                                  0\n",
       "MonthlyIncome                              0\n",
       "NumberOfOpenCreditLinesAndLoans            0\n",
       "NumberOfTimes90DaysLate                    0\n",
       "NumberRealEstateLoansOrLines               0\n",
       "NumberOfTime60-89DaysPastDueNotWorse       0\n",
       "NumberOfDependents                      3924\n",
       "dtype: int64"
      ]
     },
     "execution_count": 29,
     "metadata": {},
     "output_type": "execute_result"
    }
   ],
   "source": [
    "train_df.isnull().sum()"
   ]
  },
  {
   "cell_type": "code",
   "execution_count": 30,
   "id": "eea9da89",
   "metadata": {},
   "outputs": [
    {
     "data": {
      "text/plain": [
       "SeriousDlqin2yrs                        101503\n",
       "RevolvingUtilizationOfUnsecuredLines         0\n",
       "age                                          0\n",
       "NumberOfTime30-59DaysPastDueNotWorse         0\n",
       "DebtRatio                                    0\n",
       "MonthlyIncome                                0\n",
       "NumberOfOpenCreditLinesAndLoans              0\n",
       "NumberOfTimes90DaysLate                      0\n",
       "NumberRealEstateLoansOrLines                 0\n",
       "NumberOfTime60-89DaysPastDueNotWorse         0\n",
       "NumberOfDependents                        2626\n",
       "dtype: int64"
      ]
     },
     "execution_count": 30,
     "metadata": {},
     "output_type": "execute_result"
    }
   ],
   "source": [
    "test_df.isnull().sum()"
   ]
  },
  {
   "cell_type": "markdown",
   "id": "049d33b8",
   "metadata": {},
   "source": [
    "###### `NumberOfDependents` imputation by mode"
   ]
  },
  {
   "cell_type": "code",
   "execution_count": 31,
   "id": "9b3edbd0",
   "metadata": {
    "scrolled": true
   },
   "outputs": [
    {
     "data": {
      "text/plain": [
       "0.0     86902\n",
       "1.0     26316\n",
       "2.0     19522\n",
       "3.0      9483\n",
       "4.0      2862\n",
       "5.0       746\n",
       "6.0       158\n",
       "7.0        51\n",
       "8.0        24\n",
       "10.0        5\n",
       "9.0         5\n",
       "20.0        1\n",
       "13.0        1\n",
       "Name: NumberOfDependents, dtype: int64"
      ]
     },
     "execution_count": 31,
     "metadata": {},
     "output_type": "execute_result"
    }
   ],
   "source": [
    "train_df['NumberOfDependents'].value_counts()\n"
   ]
  },
  {
   "cell_type": "code",
   "execution_count": 32,
   "id": "1b25015f",
   "metadata": {},
   "outputs": [],
   "source": [
    "train_df['NumberOfDependents'].fillna(0.0, inplace=True)\n"
   ]
  },
  {
   "cell_type": "code",
   "execution_count": 33,
   "id": "54465313",
   "metadata": {
    "scrolled": true
   },
   "outputs": [
    {
     "data": {
      "text/plain": [
       "SeriousDlqin2yrs                        0\n",
       "RevolvingUtilizationOfUnsecuredLines    0\n",
       "age                                     0\n",
       "NumberOfTime30-59DaysPastDueNotWorse    0\n",
       "DebtRatio                               0\n",
       "MonthlyIncome                           0\n",
       "NumberOfOpenCreditLinesAndLoans         0\n",
       "NumberOfTimes90DaysLate                 0\n",
       "NumberRealEstateLoansOrLines            0\n",
       "NumberOfTime60-89DaysPastDueNotWorse    0\n",
       "NumberOfDependents                      0\n",
       "dtype: int64"
      ]
     },
     "execution_count": 33,
     "metadata": {},
     "output_type": "execute_result"
    }
   ],
   "source": [
    "train_df.isnull().sum()"
   ]
  },
  {
   "cell_type": "code",
   "execution_count": 34,
   "id": "ce36dcac",
   "metadata": {},
   "outputs": [
    {
     "data": {
      "text/plain": [
       "0.0     58618\n",
       "1.0     17618\n",
       "2.0     13298\n",
       "3.0      6623\n",
       "4.0      1995\n",
       "5.0       526\n",
       "6.0       125\n",
       "7.0        50\n",
       "8.0        16\n",
       "10.0        3\n",
       "9.0         3\n",
       "20.0        1\n",
       "43.0        1\n",
       "Name: NumberOfDependents, dtype: int64"
      ]
     },
     "execution_count": 34,
     "metadata": {},
     "output_type": "execute_result"
    }
   ],
   "source": [
    "test_df['NumberOfDependents'].value_counts()"
   ]
  },
  {
   "cell_type": "code",
   "execution_count": 35,
   "id": "3599eba2",
   "metadata": {},
   "outputs": [],
   "source": [
    "test_df['NumberOfDependents'].fillna(0.0, inplace=True)"
   ]
  },
  {
   "cell_type": "code",
   "execution_count": 36,
   "id": "8e5fbd6b",
   "metadata": {
    "scrolled": true
   },
   "outputs": [
    {
     "data": {
      "text/plain": [
       "SeriousDlqin2yrs                        101503\n",
       "RevolvingUtilizationOfUnsecuredLines         0\n",
       "age                                          0\n",
       "NumberOfTime30-59DaysPastDueNotWorse         0\n",
       "DebtRatio                                    0\n",
       "MonthlyIncome                                0\n",
       "NumberOfOpenCreditLinesAndLoans              0\n",
       "NumberOfTimes90DaysLate                      0\n",
       "NumberRealEstateLoansOrLines                 0\n",
       "NumberOfTime60-89DaysPastDueNotWorse         0\n",
       "NumberOfDependents                           0\n",
       "dtype: int64"
      ]
     },
     "execution_count": 36,
     "metadata": {},
     "output_type": "execute_result"
    }
   ],
   "source": [
    "test_df.isnull().sum()"
   ]
  },
  {
   "cell_type": "markdown",
   "id": "b8c6e7c8",
   "metadata": {},
   "source": [
    "### Check for imbalanced data"
   ]
  },
  {
   "cell_type": "code",
   "execution_count": 37,
   "id": "2c43df3f",
   "metadata": {},
   "outputs": [
    {
     "data": {
      "text/plain": [
       "0    139974\n",
       "1     10026\n",
       "Name: SeriousDlqin2yrs, dtype: int64"
      ]
     },
     "execution_count": 37,
     "metadata": {},
     "output_type": "execute_result"
    }
   ],
   "source": [
    "train_df['SeriousDlqin2yrs'].value_counts()"
   ]
  },
  {
   "cell_type": "code",
   "execution_count": 38,
   "id": "ea1d29c5",
   "metadata": {},
   "outputs": [
    {
     "data": {
      "text/plain": [
       "<AxesSubplot:xlabel='SeriousDlqin2yrs', ylabel='count'>"
      ]
     },
     "execution_count": 38,
     "metadata": {},
     "output_type": "execute_result"
    },
    {
     "data": {
      "image/png": "[encoded data removed]",
      "text/plain": [
       "<Figure size 432x288 with 1 Axes>"
      ]
     },
     "metadata": {
      "needs_background": "light"
     },
     "output_type": "display_data"
    }
   ],
   "source": [
    "sns.countplot(data = train_df, x ='SeriousDlqin2yrs')"
   ]
  },
  {
   "cell_type": "markdown",
   "id": "fedbae07",
   "metadata": {},
   "source": [
    "###### Data is imbalanced, so first of all balance the data using SMOTE "
   ]
  },
  {
   "cell_type": "code",
   "execution_count": 39,
   "id": "4f5ebbe8",
   "metadata": {},
   "outputs": [],
   "source": [
    "from imblearn.over_sampling import SMOTE"
   ]
  },
  {
   "cell_type": "code",
   "execution_count": 40,
   "id": "9d2a0bab",
   "metadata": {},
   "outputs": [],
   "source": [
    "X = train_df.drop(['SeriousDlqin2yrs'], axis = 1)\n",
    "y = train_df[['SeriousDlqin2yrs']]"
   ]
  },
  {
   "cell_type": "code",
   "execution_count": 41,
   "id": "9ba0cac2",
   "metadata": {},
   "outputs": [],
   "source": [
    "sm = SMOTE(random_state=42)\n",
    "X_res, y_res = sm.fit_resample(X, y)"
   ]
  },
  {
   "cell_type": "code",
   "execution_count": 42,
   "id": "ba536229",
   "metadata": {},
   "outputs": [
    {
     "data": {
      "text/plain": [
       "<AxesSubplot:xlabel='SeriousDlqin2yrs', ylabel='count'>"
      ]
     },
     "execution_count": 42,
     "metadata": {},
     "output_type": "execute_result"
    },
    {
     "data": {
      "image/png": "[encoded data removed]",
      "text/plain": [
       "<Figure size 432x288 with 1 Axes>"
      ]
     },
     "metadata": {
      "needs_background": "light"
     },
     "output_type": "display_data"
    }
   ],
   "source": [
    "sns.countplot(data = y_res, x ='SeriousDlqin2yrs')"
   ]
  },
  {
   "cell_type": "code",
   "execution_count": 43,
   "id": "c2733cd5",
   "metadata": {},
   "outputs": [
    {
     "data": {
      "text/plain": [
       "1    139974\n",
       "0    139974\n",
       "Name: SeriousDlqin2yrs, dtype: int64"
      ]
     },
     "execution_count": 43,
     "metadata": {},
     "output_type": "execute_result"
    }
   ],
   "source": [
    "y_res['SeriousDlqin2yrs'].value_counts()"
   ]
  },
  {
   "cell_type": "code",
   "execution_count": 44,
   "id": "a1effaf2",
   "metadata": {},
   "outputs": [],
   "source": [
    "# Join X_res and y_res dataframes and create the balanced dataframe\n",
    "bal_df = pd.concat([X_res, y_res], axis=1)"
   ]
  },
  {
   "cell_type": "code",
   "execution_count": 45,
   "id": "1ebd1166",
   "metadata": {},
   "outputs": [
    {
     "name": "stdout",
     "output_type": "stream",
     "text": [
      "<class 'pandas.core.frame.DataFrame'>\n",
      "RangeIndex: 279948 entries, 0 to 279947\n",
      "Data columns (total 11 columns):\n",
      " #   Column                                Non-Null Count   Dtype  \n",
      "---  ------                                --------------   -----  \n",
      " 0   RevolvingUtilizationOfUnsecuredLines  279948 non-null  float64\n",
      " 1   age                                   279948 non-null  int64  \n",
      " 2   NumberOfTime30-59DaysPastDueNotWorse  279948 non-null  int64  \n",
      " 3   DebtRatio                             279948 non-null  float64\n",
      " 4   MonthlyIncome                         279948 non-null  float64\n",
      " 5   NumberOfOpenCreditLinesAndLoans       279948 non-null  int64  \n",
      " 6   NumberOfTimes90DaysLate               279948 non-null  int64  \n",
      " 7   NumberRealEstateLoansOrLines          279948 non-null  int64  \n",
      " 8   NumberOfTime60-89DaysPastDueNotWorse  279948 non-null  int64  \n",
      " 9   NumberOfDependents                    279948 non-null  float64\n",
      " 10  SeriousDlqin2yrs                      279948 non-null  int64  \n",
      "dtypes: float64(4), int64(7)\n",
      "memory usage: 23.5 MB\n"
     ]
    }
   ],
   "source": [
    "bal_df.info()"
   ]
  },
  {
   "cell_type": "code",
   "execution_count": 46,
   "id": "b1380d0b",
   "metadata": {},
   "outputs": [
    {
     "data": {
      "text/plain": [
       "1.000000    19084\n",
       "0.000000    11054\n",
       "1.000000       17\n",
       "0.950100        8\n",
       "0.954092        6\n",
       "            ...  \n",
       "0.021993        1\n",
       "0.675681        1\n",
       "0.259599        1\n",
       "0.860242        1\n",
       "0.323180        1\n",
       "Name: RevolvingUtilizationOfUnsecuredLines, Length: 246672, dtype: int64"
      ]
     },
     "execution_count": 46,
     "metadata": {},
     "output_type": "execute_result"
    }
   ],
   "source": [
    "bal_df['RevolvingUtilizationOfUnsecuredLines'].value_counts()"
   ]
  },
  {
   "cell_type": "code",
   "execution_count": 47,
   "id": "71d01930",
   "metadata": {},
   "outputs": [
    {
     "data": {
      "text/plain": [
       "46     8057\n",
       "48     7953\n",
       "47     7944\n",
       "49     7942\n",
       "50     7883\n",
       "       ... \n",
       "102       3\n",
       "109       2\n",
       "107       1\n",
       "105       1\n",
       "0         1\n",
       "Name: age, Length: 86, dtype: int64"
      ]
     },
     "execution_count": 47,
     "metadata": {},
     "output_type": "execute_result"
    }
   ],
   "source": [
    "bal_df['age'].value_counts()"
   ]
  },
  {
   "cell_type": "code",
   "execution_count": 48,
   "id": "63de1811",
   "metadata": {},
   "outputs": [
    {
     "data": {
      "text/plain": [
       "49     3837\n",
       "48     3806\n",
       "50     3753\n",
       "47     3719\n",
       "63     3719\n",
       "       ... \n",
       "102       3\n",
       "109       2\n",
       "107       1\n",
       "105       1\n",
       "0         1\n",
       "Name: age, Length: 86, dtype: int64"
      ]
     },
     "execution_count": 48,
     "metadata": {},
     "output_type": "execute_result"
    }
   ],
   "source": [
    "train_df['age'].value_counts()"
   ]
  },
  {
   "cell_type": "code",
   "execution_count": 49,
   "id": "3cec0b49",
   "metadata": {},
   "outputs": [
    {
     "data": {
      "text/plain": [
       "0     204353\n",
       "1      46167\n",
       "2      16697\n",
       "3       6473\n",
       "4       2622\n",
       "       ...  \n",
       "88         1\n",
       "84         1\n",
       "42         1\n",
       "39         1\n",
       "64         1\n",
       "Name: NumberOfTime30-59DaysPastDueNotWorse, Length: 83, dtype: int64"
      ]
     },
     "execution_count": 49,
     "metadata": {},
     "output_type": "execute_result"
    }
   ],
   "source": [
    "bal_df['NumberOfTime30-59DaysPastDueNotWorse'].value_counts()"
   ]
  },
  {
   "cell_type": "code",
   "execution_count": 50,
   "id": "9a2691e1",
   "metadata": {},
   "outputs": [
    {
     "data": {
      "text/plain": [
       "0     126018\n",
       "1      16033\n",
       "2       4598\n",
       "3       1754\n",
       "4        747\n",
       "5        342\n",
       "98       264\n",
       "6        140\n",
       "7         54\n",
       "8         25\n",
       "9         12\n",
       "96         5\n",
       "10         4\n",
       "12         2\n",
       "13         1\n",
       "11         1\n",
       "Name: NumberOfTime30-59DaysPastDueNotWorse, dtype: int64"
      ]
     },
     "execution_count": 50,
     "metadata": {},
     "output_type": "execute_result"
    }
   ],
   "source": [
    "train_df['NumberOfTime30-59DaysPastDueNotWorse'].value_counts()"
   ]
  },
  {
   "cell_type": "code",
   "execution_count": 51,
   "id": "d3b331ed",
   "metadata": {},
   "outputs": [
    {
     "data": {
      "text/plain": [
       "0.000000    6137\n",
       "1.000000     229\n",
       "4.000000     184\n",
       "3.000000     180\n",
       "2.000000     170\n",
       "            ... \n",
       "0.245291       1\n",
       "0.327506       1\n",
       "0.199450       1\n",
       "0.140077       1\n",
       "0.323089       1\n",
       "Name: DebtRatio, Length: 241135, dtype: int64"
      ]
     },
     "execution_count": 51,
     "metadata": {},
     "output_type": "execute_result"
    }
   ],
   "source": [
    "# MonthlyIncome\n",
    "# NumberOfOpenCreditLinesAndLoans\n",
    "# NumberOfTimes90DaysLate \n",
    "# NumberRealEstateLoansOrLines \n",
    "# NumberOfTime60-89DaysPastDueNotWorse\n",
    "# NumberOfDependents\n",
    "bal_df['DebtRatio'].value_counts()"
   ]
  },
  {
   "cell_type": "code",
   "execution_count": 52,
   "id": "31462c5d",
   "metadata": {},
   "outputs": [
    {
     "data": {
      "text/plain": [
       "6670.221237    51444\n",
       "5000.000000     4819\n",
       "4000.000000     4186\n",
       "3000.000000     3815\n",
       "6000.000000     3628\n",
       "               ...  \n",
       "3251.305361        1\n",
       "7545.467472        1\n",
       "3439.911881        1\n",
       "6541.946730        1\n",
       "2189.928319        1\n",
       "Name: MonthlyIncome, Length: 67372, dtype: int64"
      ]
     },
     "execution_count": 52,
     "metadata": {},
     "output_type": "execute_result"
    }
   ],
   "source": [
    "# NumberOfOpenCreditLinesAndLoans\n",
    "# NumberOfTimes90DaysLate \n",
    "# NumberRealEstateLoansOrLines \n",
    "# NumberOfTime60-89DaysPastDueNotWorse\n",
    "# NumberOfDependents\n",
    "bal_df['MonthlyIncome'].value_counts()"
   ]
  },
  {
   "cell_type": "code",
   "execution_count": 53,
   "id": "4668a4ec",
   "metadata": {},
   "outputs": [
    {
     "data": {
      "text/plain": [
       "5     24554\n",
       "6     24472\n",
       "7     23437\n",
       "4     22483\n",
       "8     22015\n",
       "9     20030\n",
       "3     18910\n",
       "10    17168\n",
       "2     14840\n",
       "11    14746\n",
       "12    12138\n",
       "1     11590\n",
       "13     9853\n",
       "14     8038\n",
       "0      7534\n",
       "15     6348\n",
       "16     5106\n",
       "17     3861\n",
       "18     2976\n",
       "19     2301\n",
       "20     1813\n",
       "21     1368\n",
       "22      992\n",
       "23      798\n",
       "24      574\n",
       "25      458\n",
       "26      330\n",
       "27      257\n",
       "28      204\n",
       "29      144\n",
       "30      111\n",
       "31      101\n",
       "32       77\n",
       "33       67\n",
       "34       43\n",
       "35       36\n",
       "36       28\n",
       "40       17\n",
       "38       15\n",
       "37       13\n",
       "39       12\n",
       "42       11\n",
       "43       11\n",
       "45       11\n",
       "49        7\n",
       "41        7\n",
       "46        7\n",
       "44        7\n",
       "48        6\n",
       "54        5\n",
       "52        3\n",
       "56        3\n",
       "47        3\n",
       "50        3\n",
       "57        2\n",
       "51        2\n",
       "58        1\n",
       "53        1\n",
       "Name: NumberOfOpenCreditLinesAndLoans, dtype: int64"
      ]
     },
     "execution_count": 53,
     "metadata": {},
     "output_type": "execute_result"
    }
   ],
   "source": [
    "# NumberOfTimes90DaysLate \n",
    "# NumberRealEstateLoansOrLines \n",
    "# NumberOfTime60-89DaysPastDueNotWorse\n",
    "# NumberOfDependents\n",
    "bal_df['NumberOfOpenCreditLinesAndLoans'].value_counts()"
   ]
  },
  {
   "cell_type": "code",
   "execution_count": 54,
   "id": "dd83a5f4",
   "metadata": {},
   "outputs": [
    {
     "data": {
      "text/plain": [
       "6     13614\n",
       "7     13245\n",
       "5     12931\n",
       "8     12562\n",
       "4     11609\n",
       "9     11355\n",
       "10     9624\n",
       "3      9058\n",
       "11     8321\n",
       "12     7005\n",
       "2      6666\n",
       "13     5667\n",
       "14     4546\n",
       "1      4438\n",
       "15     3645\n",
       "16     3000\n",
       "17     2370\n",
       "0      1888\n",
       "18     1874\n",
       "19     1433\n",
       "20     1169\n",
       "21      864\n",
       "22      685\n",
       "23      533\n",
       "24      422\n",
       "25      337\n",
       "26      239\n",
       "27      194\n",
       "28      150\n",
       "29      114\n",
       "30       88\n",
       "31       74\n",
       "32       52\n",
       "33       47\n",
       "34       35\n",
       "35       27\n",
       "36       18\n",
       "38       13\n",
       "40       10\n",
       "39        9\n",
       "42        8\n",
       "45        8\n",
       "43        8\n",
       "37        7\n",
       "48        6\n",
       "49        4\n",
       "54        4\n",
       "41        4\n",
       "52        3\n",
       "46        3\n",
       "57        2\n",
       "51        2\n",
       "56        2\n",
       "47        2\n",
       "50        2\n",
       "44        2\n",
       "58        1\n",
       "53        1\n",
       "Name: NumberOfOpenCreditLinesAndLoans, dtype: int64"
      ]
     },
     "execution_count": 54,
     "metadata": {},
     "output_type": "execute_result"
    }
   ],
   "source": [
    "train_df['NumberOfOpenCreditLinesAndLoans'].value_counts()"
   ]
  },
  {
   "cell_type": "code",
   "execution_count": 55,
   "id": "f57f5625",
   "metadata": {},
   "outputs": [
    {
     "data": {
      "text/plain": [
       "0     240080\n",
       "1      23796\n",
       "2       8234\n",
       "3       3264\n",
       "98      1934\n",
       "       ...  \n",
       "38         1\n",
       "81         1\n",
       "44         1\n",
       "64         1\n",
       "79         1\n",
       "Name: NumberOfTimes90DaysLate, Length: 81, dtype: int64"
      ]
     },
     "execution_count": 55,
     "metadata": {},
     "output_type": "execute_result"
    }
   ],
   "source": [
    "# NumberRealEstateLoansOrLines \n",
    "# NumberOfTime60-89DaysPastDueNotWorse\n",
    "# NumberOfDependents\n",
    "bal_df['NumberOfTimes90DaysLate'].value_counts()"
   ]
  },
  {
   "cell_type": "code",
   "execution_count": 56,
   "id": "eebfa471",
   "metadata": {},
   "outputs": [
    {
     "data": {
      "text/plain": [
       "0     141662\n",
       "1       5243\n",
       "2       1555\n",
       "3        667\n",
       "4        291\n",
       "98       264\n",
       "5        131\n",
       "6         80\n",
       "7         38\n",
       "8         21\n",
       "9         19\n",
       "10         8\n",
       "96         5\n",
       "11         5\n",
       "13         4\n",
       "15         2\n",
       "14         2\n",
       "12         2\n",
       "17         1\n",
       "Name: NumberOfTimes90DaysLate, dtype: int64"
      ]
     },
     "execution_count": 56,
     "metadata": {},
     "output_type": "execute_result"
    }
   ],
   "source": [
    "train_df['NumberOfTimes90DaysLate'].value_counts()"
   ]
  },
  {
   "cell_type": "code",
   "execution_count": 57,
   "id": "56f5c70d",
   "metadata": {},
   "outputs": [
    {
     "data": {
      "text/plain": [
       "0     128563\n",
       "1      89813\n",
       "2      45392\n",
       "3       9678\n",
       "4       3503\n",
       "5       1304\n",
       "6        666\n",
       "7        389\n",
       "8        196\n",
       "9        142\n",
       "10        80\n",
       "11        69\n",
       "12        43\n",
       "13        29\n",
       "14        20\n",
       "15        13\n",
       "18         8\n",
       "19         7\n",
       "17         5\n",
       "23         4\n",
       "20         4\n",
       "25         4\n",
       "16         4\n",
       "21         4\n",
       "24         2\n",
       "29         1\n",
       "54         1\n",
       "26         1\n",
       "32         1\n",
       "28         1\n",
       "22         1\n",
       "Name: NumberRealEstateLoansOrLines, dtype: int64"
      ]
     },
     "execution_count": 57,
     "metadata": {},
     "output_type": "execute_result"
    }
   ],
   "source": [
    "# NumberOfTime60-89DaysPastDueNotWorse\n",
    "# NumberOfDependents\n",
    "bal_df['NumberRealEstateLoansOrLines'].value_counts()"
   ]
  },
  {
   "cell_type": "code",
   "execution_count": 58,
   "id": "5fca7ea9",
   "metadata": {},
   "outputs": [
    {
     "data": {
      "text/plain": [
       "0     252747\n",
       "1      19807\n",
       "2       3835\n",
       "98      1934\n",
       "3        941\n",
       "       ...  \n",
       "54         1\n",
       "72         1\n",
       "91         1\n",
       "83         1\n",
       "79         1\n",
       "Name: NumberOfTime60-89DaysPastDueNotWorse, Length: 84, dtype: int64"
      ]
     },
     "execution_count": 58,
     "metadata": {},
     "output_type": "execute_result"
    }
   ],
   "source": [
    "# NumberOfDependents\n",
    "bal_df['NumberOfTime60-89DaysPastDueNotWorse'].value_counts()"
   ]
  },
  {
   "cell_type": "code",
   "execution_count": 59,
   "id": "1e384e92",
   "metadata": {},
   "outputs": [
    {
     "data": {
      "text/plain": [
       "0.000000    132045\n",
       "1.000000     31607\n",
       "2.000000     23898\n",
       "3.000000     10761\n",
       "4.000000      3063\n",
       "             ...  \n",
       "0.865545         1\n",
       "0.097942         1\n",
       "1.286326         1\n",
       "0.568350         1\n",
       "2.767661         1\n",
       "Name: NumberOfDependents, Length: 77580, dtype: int64"
      ]
     },
     "execution_count": 59,
     "metadata": {},
     "output_type": "execute_result"
    }
   ],
   "source": [
    "bal_df['NumberOfDependents'].value_counts()"
   ]
  },
  {
   "cell_type": "code",
   "execution_count": 60,
   "id": "dae51545",
   "metadata": {},
   "outputs": [
    {
     "data": {
      "text/plain": [
       "0.0     90826\n",
       "1.0     26316\n",
       "2.0     19522\n",
       "3.0      9483\n",
       "4.0      2862\n",
       "5.0       746\n",
       "6.0       158\n",
       "7.0        51\n",
       "8.0        24\n",
       "10.0        5\n",
       "9.0         5\n",
       "20.0        1\n",
       "13.0        1\n",
       "Name: NumberOfDependents, dtype: int64"
      ]
     },
     "execution_count": 60,
     "metadata": {},
     "output_type": "execute_result"
    }
   ],
   "source": [
    "train_df['NumberOfDependents'].value_counts()"
   ]
  },
  {
   "cell_type": "code",
   "execution_count": 61,
   "id": "999d3dac",
   "metadata": {},
   "outputs": [],
   "source": [
    "bal_df['NumberOfDependents'] = bal_df['NumberOfDependents'].astype(int)"
   ]
  },
  {
   "cell_type": "code",
   "execution_count": 62,
   "id": "5efed872",
   "metadata": {},
   "outputs": [
    {
     "data": {
      "text/plain": [
       "0     168319\n",
       "1      56145\n",
       "2      36234\n",
       "3      14353\n",
       "4       3676\n",
       "5        903\n",
       "6        217\n",
       "7         65\n",
       "8         24\n",
       "10         5\n",
       "9          5\n",
       "20         1\n",
       "13         1\n",
       "Name: NumberOfDependents, dtype: int64"
      ]
     },
     "execution_count": 62,
     "metadata": {},
     "output_type": "execute_result"
    }
   ],
   "source": [
    "bal_df['NumberOfDependents'].value_counts()"
   ]
  },
  {
   "cell_type": "code",
   "execution_count": 63,
   "id": "483a2213",
   "metadata": {},
   "outputs": [
    {
     "name": "stdout",
     "output_type": "stream",
     "text": [
      "<class 'pandas.core.frame.DataFrame'>\n",
      "RangeIndex: 279948 entries, 0 to 279947\n",
      "Data columns (total 11 columns):\n",
      " #   Column                                Non-Null Count   Dtype  \n",
      "---  ------                                --------------   -----  \n",
      " 0   RevolvingUtilizationOfUnsecuredLines  279948 non-null  float64\n",
      " 1   age                                   279948 non-null  int64  \n",
      " 2   NumberOfTime30-59DaysPastDueNotWorse  279948 non-null  int64  \n",
      " 3   DebtRatio                             279948 non-null  float64\n",
      " 4   MonthlyIncome                         279948 non-null  float64\n",
      " 5   NumberOfOpenCreditLinesAndLoans       279948 non-null  int64  \n",
      " 6   NumberOfTimes90DaysLate               279948 non-null  int64  \n",
      " 7   NumberRealEstateLoansOrLines          279948 non-null  int64  \n",
      " 8   NumberOfTime60-89DaysPastDueNotWorse  279948 non-null  int64  \n",
      " 9   NumberOfDependents                    279948 non-null  int32  \n",
      " 10  SeriousDlqin2yrs                      279948 non-null  int64  \n",
      "dtypes: float64(3), int32(1), int64(7)\n",
      "memory usage: 22.4 MB\n"
     ]
    }
   ],
   "source": [
    "bal_df.info()"
   ]
  },
  {
   "cell_type": "markdown",
   "id": "0a122455",
   "metadata": {},
   "source": [
    "#### Gaining the insights"
   ]
  },
  {
   "cell_type": "code",
   "execution_count": 64,
   "id": "062dbf47",
   "metadata": {},
   "outputs": [
    {
     "data": {
      "text/plain": [
       "<AxesSubplot:xlabel='SeriousDlqin2yrs', ylabel='count'>"
      ]
     },
     "execution_count": 64,
     "metadata": {},
     "output_type": "execute_result"
    },
    {
     "data": {
      "image/png": "[encoded data removed]",
      "text/plain": [
       "<Figure size 1440x576 with 2 Axes>"
      ]
     },
     "metadata": {
      "needs_background": "light"
     },
     "output_type": "display_data"
    }
   ],
   "source": [
    "fig, ax = plt.subplots(1,2, figsize = (20,8))\n",
    "sns.countplot(data = bal_df, x = 'SeriousDlqin2yrs', hue = bal_df['age'], ax = ax[0])\n",
    "sns.countplot(data = bal_df, x = 'SeriousDlqin2yrs', hue = bal_df['NumberOfDependents'], ax = ax[1])"
   ]
  },
  {
   "cell_type": "markdown",
   "id": "233f0240",
   "metadata": {},
   "source": [
    "###### No. of dependents does not have any impact"
   ]
  },
  {
   "cell_type": "markdown",
   "id": "0501a624",
   "metadata": {},
   "source": [
    "### Correlation check"
   ]
  },
  {
   "cell_type": "code",
   "execution_count": 65,
   "id": "c8dc22d7",
   "metadata": {},
   "outputs": [
    {
     "data": {
      "text/plain": [
       "<AxesSubplot:>"
      ]
     },
     "execution_count": 65,
     "metadata": {},
     "output_type": "execute_result"
    },
    {
     "data": {
      "image/png": "[encoded data removed]",
      "text/plain": [
       "<Figure size 720x720 with 2 Axes>"
      ]
     },
     "metadata": {
      "needs_background": "light"
     },
     "output_type": "display_data"
    }
   ],
   "source": [
    "fig, ax = plt.subplots (figsize= (10,10))\n",
    "sns.heatmap(bal_df.corr(), annot = True)"
   ]
  },
  {
   "cell_type": "markdown",
   "id": "fb4adf4f",
   "metadata": {},
   "source": [
    "###### age, NumberOfTime30-59DaysPastDueNotWorse, NumberRealEstateLoansOrLines are correlated with SeriousDlqin2yrs"
   ]
  },
  {
   "cell_type": "markdown",
   "id": "ca1b3874",
   "metadata": {},
   "source": [
    "###### Multicollinearity exists between:\n",
    "- `NumberOfTime30-59DaysPastDueNotWorse` and `NumberOfTime60-59DaysPastDueNotWorse` and `NumberOfTimes90DaysLate`\\\n",
    "- `NumberOfTime30-59DaysPastDueNotWorse` is highly correlated with `SeriousDlqin2yrs` hence `NumberOfTime60-59DaysPastDueNotWorse` and `NumberOfTimes90DaysLate`could be dropped"
   ]
  },
  {
   "cell_type": "markdown",
   "id": "bd52caa2",
   "metadata": {},
   "source": [
    "### Outliers check"
   ]
  },
  {
   "cell_type": "code",
   "execution_count": 66,
   "id": "31c70b07",
   "metadata": {},
   "outputs": [
    {
     "data": {
      "text/plain": [
       "Index(['RevolvingUtilizationOfUnsecuredLines', 'age',\n",
       "       'NumberOfTime30-59DaysPastDueNotWorse', 'DebtRatio', 'MonthlyIncome',\n",
       "       'NumberOfOpenCreditLinesAndLoans', 'NumberOfTimes90DaysLate',\n",
       "       'NumberRealEstateLoansOrLines', 'NumberOfTime60-89DaysPastDueNotWorse',\n",
       "       'NumberOfDependents', 'SeriousDlqin2yrs'],\n",
       "      dtype='object')"
      ]
     },
     "execution_count": 66,
     "metadata": {},
     "output_type": "execute_result"
    }
   ],
   "source": [
    "bal_df.columns"
   ]
  },
  {
   "cell_type": "code",
   "execution_count": 67,
   "id": "91a42214",
   "metadata": {},
   "outputs": [
    {
     "data": {
      "text/plain": [
       "<AxesSubplot:xlabel='age'>"
      ]
     },
     "execution_count": 67,
     "metadata": {},
     "output_type": "execute_result"
    },
    {
     "data": {
      "image/png": "[encoded data removed]",
      "text/plain": [
       "<Figure size 432x288 with 1 Axes>"
      ]
     },
     "metadata": {
      "needs_background": "light"
     },
     "output_type": "display_data"
    }
   ],
   "source": [
    "sns.boxplot(bal_df['age'])"
   ]
  },
  {
   "cell_type": "code",
   "execution_count": 68,
   "id": "30364390",
   "metadata": {},
   "outputs": [],
   "source": [
    "# function that will return the lowerbound and upperbound values\n",
    "def outlier_treatment(datacolumn):\n",
    "    sorted(datacolumn)\n",
    "    Q1,Q3 = np.percentile(datacolumn , [25,75])\n",
    "    IQR = Q3 - Q1\n",
    "    lower_range = Q1 - (1.5 * IQR)\n",
    "    upper_range = Q3 + (1.5 * IQR)\n",
    "    return lower_range,upper_range"
   ]
  },
  {
   "cell_type": "code",
   "execution_count": 69,
   "id": "c21ede96",
   "metadata": {},
   "outputs": [],
   "source": [
    "# Using the above function, lets get the lowerbound and upperbound values\n",
    "lowerbound,upperbound = outlier_treatment(bal_df['age'])"
   ]
  },
  {
   "cell_type": "code",
   "execution_count": 70,
   "id": "7864d56c",
   "metadata": {},
   "outputs": [
    {
     "data": {
      "text/html": [
       "<div>\n",
       "<style scoped>\n",
       "    .dataframe tbody tr th:only-of-type {\n",
       "        vertical-align: middle;\n",
       "    }\n",
       "\n",
       "    .dataframe tbody tr th {\n",
       "        vertical-align: top;\n",
       "    }\n",
       "\n",
       "    .dataframe thead th {\n",
       "        text-align: right;\n",
       "    }\n",
       "</style>\n",
       "<table border=\"1\" class=\"dataframe\">\n",
       "  <thead>\n",
       "    <tr style=\"text-align: right;\">\n",
       "      <th></th>\n",
       "      <th>RevolvingUtilizationOfUnsecuredLines</th>\n",
       "      <th>age</th>\n",
       "      <th>NumberOfTime30-59DaysPastDueNotWorse</th>\n",
       "      <th>DebtRatio</th>\n",
       "      <th>MonthlyIncome</th>\n",
       "      <th>NumberOfOpenCreditLinesAndLoans</th>\n",
       "      <th>NumberOfTimes90DaysLate</th>\n",
       "      <th>NumberRealEstateLoansOrLines</th>\n",
       "      <th>NumberOfTime60-89DaysPastDueNotWorse</th>\n",
       "      <th>NumberOfDependents</th>\n",
       "      <th>SeriousDlqin2yrs</th>\n",
       "    </tr>\n",
       "  </thead>\n",
       "  <tbody>\n",
       "    <tr>\n",
       "      <th>208</th>\n",
       "      <td>0.046640</td>\n",
       "      <td>92</td>\n",
       "      <td>1</td>\n",
       "      <td>0.034327</td>\n",
       "      <td>2650.000000</td>\n",
       "      <td>13</td>\n",
       "      <td>0</td>\n",
       "      <td>0</td>\n",
       "      <td>0</td>\n",
       "      <td>0</td>\n",
       "      <td>0</td>\n",
       "    </tr>\n",
       "    <tr>\n",
       "      <th>320</th>\n",
       "      <td>0.016478</td>\n",
       "      <td>92</td>\n",
       "      <td>0</td>\n",
       "      <td>10.000000</td>\n",
       "      <td>6670.221237</td>\n",
       "      <td>3</td>\n",
       "      <td>0</td>\n",
       "      <td>0</td>\n",
       "      <td>0</td>\n",
       "      <td>0</td>\n",
       "      <td>0</td>\n",
       "    </tr>\n",
       "    <tr>\n",
       "      <th>336</th>\n",
       "      <td>0.053589</td>\n",
       "      <td>87</td>\n",
       "      <td>0</td>\n",
       "      <td>0.001534</td>\n",
       "      <td>5213.000000</td>\n",
       "      <td>4</td>\n",
       "      <td>0</td>\n",
       "      <td>0</td>\n",
       "      <td>0</td>\n",
       "      <td>0</td>\n",
       "      <td>0</td>\n",
       "    </tr>\n",
       "    <tr>\n",
       "      <th>387</th>\n",
       "      <td>0.003895</td>\n",
       "      <td>90</td>\n",
       "      <td>0</td>\n",
       "      <td>876.000000</td>\n",
       "      <td>6670.221237</td>\n",
       "      <td>11</td>\n",
       "      <td>0</td>\n",
       "      <td>1</td>\n",
       "      <td>0</td>\n",
       "      <td>0</td>\n",
       "      <td>0</td>\n",
       "    </tr>\n",
       "    <tr>\n",
       "      <th>436</th>\n",
       "      <td>0.007000</td>\n",
       "      <td>97</td>\n",
       "      <td>0</td>\n",
       "      <td>3.000000</td>\n",
       "      <td>6670.221237</td>\n",
       "      <td>2</td>\n",
       "      <td>0</td>\n",
       "      <td>0</td>\n",
       "      <td>0</td>\n",
       "      <td>0</td>\n",
       "      <td>0</td>\n",
       "    </tr>\n",
       "    <tr>\n",
       "      <th>...</th>\n",
       "      <td>...</td>\n",
       "      <td>...</td>\n",
       "      <td>...</td>\n",
       "      <td>...</td>\n",
       "      <td>...</td>\n",
       "      <td>...</td>\n",
       "      <td>...</td>\n",
       "      <td>...</td>\n",
       "      <td>...</td>\n",
       "      <td>...</td>\n",
       "      <td>...</td>\n",
       "    </tr>\n",
       "    <tr>\n",
       "      <th>275633</th>\n",
       "      <td>0.623461</td>\n",
       "      <td>88</td>\n",
       "      <td>1</td>\n",
       "      <td>0.407393</td>\n",
       "      <td>2500.000000</td>\n",
       "      <td>6</td>\n",
       "      <td>1</td>\n",
       "      <td>0</td>\n",
       "      <td>0</td>\n",
       "      <td>0</td>\n",
       "      <td>1</td>\n",
       "    </tr>\n",
       "    <tr>\n",
       "      <th>275660</th>\n",
       "      <td>0.542080</td>\n",
       "      <td>90</td>\n",
       "      <td>1</td>\n",
       "      <td>0.233194</td>\n",
       "      <td>6500.000000</td>\n",
       "      <td>12</td>\n",
       "      <td>0</td>\n",
       "      <td>0</td>\n",
       "      <td>1</td>\n",
       "      <td>0</td>\n",
       "      <td>1</td>\n",
       "    </tr>\n",
       "    <tr>\n",
       "      <th>276744</th>\n",
       "      <td>0.579000</td>\n",
       "      <td>88</td>\n",
       "      <td>1</td>\n",
       "      <td>0.429625</td>\n",
       "      <td>2500.000000</td>\n",
       "      <td>6</td>\n",
       "      <td>1</td>\n",
       "      <td>0</td>\n",
       "      <td>0</td>\n",
       "      <td>0</td>\n",
       "      <td>1</td>\n",
       "    </tr>\n",
       "    <tr>\n",
       "      <th>277208</th>\n",
       "      <td>0.800686</td>\n",
       "      <td>89</td>\n",
       "      <td>4</td>\n",
       "      <td>0.440255</td>\n",
       "      <td>2390.322198</td>\n",
       "      <td>4</td>\n",
       "      <td>0</td>\n",
       "      <td>0</td>\n",
       "      <td>2</td>\n",
       "      <td>0</td>\n",
       "      <td>1</td>\n",
       "    </tr>\n",
       "    <tr>\n",
       "      <th>279178</th>\n",
       "      <td>0.587286</td>\n",
       "      <td>90</td>\n",
       "      <td>1</td>\n",
       "      <td>0.252648</td>\n",
       "      <td>6500.000000</td>\n",
       "      <td>12</td>\n",
       "      <td>0</td>\n",
       "      <td>0</td>\n",
       "      <td>1</td>\n",
       "      <td>0</td>\n",
       "      <td>1</td>\n",
       "    </tr>\n",
       "  </tbody>\n",
       "</table>\n",
       "<p>1757 rows × 11 columns</p>\n",
       "</div>"
      ],
      "text/plain": [
       "        RevolvingUtilizationOfUnsecuredLines  age  \\\n",
       "208                                 0.046640   92   \n",
       "320                                 0.016478   92   \n",
       "336                                 0.053589   87   \n",
       "387                                 0.003895   90   \n",
       "436                                 0.007000   97   \n",
       "...                                      ...  ...   \n",
       "275633                              0.623461   88   \n",
       "275660                              0.542080   90   \n",
       "276744                              0.579000   88   \n",
       "277208                              0.800686   89   \n",
       "279178                              0.587286   90   \n",
       "\n",
       "        NumberOfTime30-59DaysPastDueNotWorse   DebtRatio  MonthlyIncome  \\\n",
       "208                                        1    0.034327    2650.000000   \n",
       "320                                        0   10.000000    6670.221237   \n",
       "336                                        0    0.001534    5213.000000   \n",
       "387                                        0  876.000000    6670.221237   \n",
       "436                                        0    3.000000    6670.221237   \n",
       "...                                      ...         ...            ...   \n",
       "275633                                     1    0.407393    2500.000000   \n",
       "275660                                     1    0.233194    6500.000000   \n",
       "276744                                     1    0.429625    2500.000000   \n",
       "277208                                     4    0.440255    2390.322198   \n",
       "279178                                     1    0.252648    6500.000000   \n",
       "\n",
       "        NumberOfOpenCreditLinesAndLoans  NumberOfTimes90DaysLate  \\\n",
       "208                                  13                        0   \n",
       "320                                   3                        0   \n",
       "336                                   4                        0   \n",
       "387                                  11                        0   \n",
       "436                                   2                        0   \n",
       "...                                 ...                      ...   \n",
       "275633                                6                        1   \n",
       "275660                               12                        0   \n",
       "276744                                6                        1   \n",
       "277208                                4                        0   \n",
       "279178                               12                        0   \n",
       "\n",
       "        NumberRealEstateLoansOrLines  NumberOfTime60-89DaysPastDueNotWorse  \\\n",
       "208                                0                                     0   \n",
       "320                                0                                     0   \n",
       "336                                0                                     0   \n",
       "387                                1                                     0   \n",
       "436                                0                                     0   \n",
       "...                              ...                                   ...   \n",
       "275633                             0                                     0   \n",
       "275660                             0                                     1   \n",
       "276744                             0                                     0   \n",
       "277208                             0                                     2   \n",
       "279178                             0                                     1   \n",
       "\n",
       "        NumberOfDependents  SeriousDlqin2yrs  \n",
       "208                      0                 0  \n",
       "320                      0                 0  \n",
       "336                      0                 0  \n",
       "387                      0                 0  \n",
       "436                      0                 0  \n",
       "...                    ...               ...  \n",
       "275633                   0                 1  \n",
       "275660                   0                 1  \n",
       "276744                   0                 1  \n",
       "277208                   0                 1  \n",
       "279178                   0                 1  \n",
       "\n",
       "[1757 rows x 11 columns]"
      ]
     },
     "execution_count": 70,
     "metadata": {},
     "output_type": "execute_result"
    }
   ],
   "source": [
    "# check which column is considered as an outlier\n",
    "bal_df[(bal_df['age'] < lowerbound) | (bal_df['age'] > upperbound)]"
   ]
  },
  {
   "cell_type": "code",
   "execution_count": 71,
   "id": "262973ad",
   "metadata": {},
   "outputs": [],
   "source": [
    "#Now lets remove the outliers from the dataset.\n",
    "bal_df.drop(bal_df[ (bal_df['age'] > upperbound) | (bal_df['age'] < lowerbound) ].index , inplace=True)"
   ]
  },
  {
   "cell_type": "code",
   "execution_count": 72,
   "id": "259d93b3",
   "metadata": {
    "scrolled": true
   },
   "outputs": [
    {
     "data": {
      "text/html": [
       "<div>\n",
       "<style scoped>\n",
       "    .dataframe tbody tr th:only-of-type {\n",
       "        vertical-align: middle;\n",
       "    }\n",
       "\n",
       "    .dataframe tbody tr th {\n",
       "        vertical-align: top;\n",
       "    }\n",
       "\n",
       "    .dataframe thead th {\n",
       "        text-align: right;\n",
       "    }\n",
       "</style>\n",
       "<table border=\"1\" class=\"dataframe\">\n",
       "  <thead>\n",
       "    <tr style=\"text-align: right;\">\n",
       "      <th></th>\n",
       "      <th>RevolvingUtilizationOfUnsecuredLines</th>\n",
       "      <th>age</th>\n",
       "      <th>NumberOfTime30-59DaysPastDueNotWorse</th>\n",
       "      <th>DebtRatio</th>\n",
       "      <th>MonthlyIncome</th>\n",
       "      <th>NumberOfOpenCreditLinesAndLoans</th>\n",
       "      <th>NumberOfTimes90DaysLate</th>\n",
       "      <th>NumberRealEstateLoansOrLines</th>\n",
       "      <th>NumberOfTime60-89DaysPastDueNotWorse</th>\n",
       "      <th>NumberOfDependents</th>\n",
       "      <th>SeriousDlqin2yrs</th>\n",
       "    </tr>\n",
       "  </thead>\n",
       "  <tbody>\n",
       "  </tbody>\n",
       "</table>\n",
       "</div>"
      ],
      "text/plain": [
       "Empty DataFrame\n",
       "Columns: [RevolvingUtilizationOfUnsecuredLines, age, NumberOfTime30-59DaysPastDueNotWorse, DebtRatio, MonthlyIncome, NumberOfOpenCreditLinesAndLoans, NumberOfTimes90DaysLate, NumberRealEstateLoansOrLines, NumberOfTime60-89DaysPastDueNotWorse, NumberOfDependents, SeriousDlqin2yrs]\n",
       "Index: []"
      ]
     },
     "execution_count": 72,
     "metadata": {},
     "output_type": "execute_result"
    }
   ],
   "source": [
    "bal_df[(bal_df['age'] < lowerbound) | (bal_df['age'] > upperbound)]"
   ]
  },
  {
   "cell_type": "code",
   "execution_count": 73,
   "id": "b990c677",
   "metadata": {},
   "outputs": [
    {
     "data": {
      "text/plain": [
       "<AxesSubplot:xlabel='RevolvingUtilizationOfUnsecuredLines'>"
      ]
     },
     "execution_count": 73,
     "metadata": {},
     "output_type": "execute_result"
    },
    {
     "data": {
      "image/png": "[encoded data removed]",
      "text/plain": [
       "<Figure size 432x288 with 1 Axes>"
      ]
     },
     "metadata": {
      "needs_background": "light"
     },
     "output_type": "display_data"
    }
   ],
   "source": [
    "sns.boxplot(bal_df['RevolvingUtilizationOfUnsecuredLines'])"
   ]
  },
  {
   "cell_type": "code",
   "execution_count": 74,
   "id": "b5e9f130",
   "metadata": {},
   "outputs": [
    {
     "data": {
      "text/html": [
       "<div>\n",
       "<style scoped>\n",
       "    .dataframe tbody tr th:only-of-type {\n",
       "        vertical-align: middle;\n",
       "    }\n",
       "\n",
       "    .dataframe tbody tr th {\n",
       "        vertical-align: top;\n",
       "    }\n",
       "\n",
       "    .dataframe thead th {\n",
       "        text-align: right;\n",
       "    }\n",
       "</style>\n",
       "<table border=\"1\" class=\"dataframe\">\n",
       "  <thead>\n",
       "    <tr style=\"text-align: right;\">\n",
       "      <th></th>\n",
       "      <th>RevolvingUtilizationOfUnsecuredLines</th>\n",
       "      <th>age</th>\n",
       "      <th>NumberOfTime30-59DaysPastDueNotWorse</th>\n",
       "      <th>DebtRatio</th>\n",
       "      <th>MonthlyIncome</th>\n",
       "      <th>NumberOfOpenCreditLinesAndLoans</th>\n",
       "      <th>NumberOfTimes90DaysLate</th>\n",
       "      <th>NumberRealEstateLoansOrLines</th>\n",
       "      <th>NumberOfTime60-89DaysPastDueNotWorse</th>\n",
       "      <th>NumberOfDependents</th>\n",
       "      <th>SeriousDlqin2yrs</th>\n",
       "    </tr>\n",
       "  </thead>\n",
       "  <tbody>\n",
       "    <tr>\n",
       "      <th>293</th>\n",
       "      <td>2340.000000</td>\n",
       "      <td>45</td>\n",
       "      <td>0</td>\n",
       "      <td>0.339333</td>\n",
       "      <td>8333.000000</td>\n",
       "      <td>7</td>\n",
       "      <td>0</td>\n",
       "      <td>2</td>\n",
       "      <td>0</td>\n",
       "      <td>2</td>\n",
       "      <td>0</td>\n",
       "    </tr>\n",
       "    <tr>\n",
       "      <th>697</th>\n",
       "      <td>2066.000000</td>\n",
       "      <td>58</td>\n",
       "      <td>0</td>\n",
       "      <td>0.271121</td>\n",
       "      <td>6000.000000</td>\n",
       "      <td>8</td>\n",
       "      <td>1</td>\n",
       "      <td>1</td>\n",
       "      <td>0</td>\n",
       "      <td>1</td>\n",
       "      <td>1</td>\n",
       "    </tr>\n",
       "    <tr>\n",
       "      <th>900</th>\n",
       "      <td>2.258964</td>\n",
       "      <td>33</td>\n",
       "      <td>2</td>\n",
       "      <td>0.032484</td>\n",
       "      <td>2000.000000</td>\n",
       "      <td>1</td>\n",
       "      <td>1</td>\n",
       "      <td>0</td>\n",
       "      <td>0</td>\n",
       "      <td>2</td>\n",
       "      <td>0</td>\n",
       "    </tr>\n",
       "    <tr>\n",
       "      <th>1991</th>\n",
       "      <td>1143.000000</td>\n",
       "      <td>44</td>\n",
       "      <td>2</td>\n",
       "      <td>0.547762</td>\n",
       "      <td>6500.000000</td>\n",
       "      <td>13</td>\n",
       "      <td>0</td>\n",
       "      <td>4</td>\n",
       "      <td>0</td>\n",
       "      <td>2</td>\n",
       "      <td>1</td>\n",
       "    </tr>\n",
       "    <tr>\n",
       "      <th>2331</th>\n",
       "      <td>6324.000000</td>\n",
       "      <td>59</td>\n",
       "      <td>0</td>\n",
       "      <td>0.136673</td>\n",
       "      <td>11318.000000</td>\n",
       "      <td>4</td>\n",
       "      <td>0</td>\n",
       "      <td>1</td>\n",
       "      <td>0</td>\n",
       "      <td>1</td>\n",
       "      <td>0</td>\n",
       "    </tr>\n",
       "    <tr>\n",
       "      <th>...</th>\n",
       "      <td>...</td>\n",
       "      <td>...</td>\n",
       "      <td>...</td>\n",
       "      <td>...</td>\n",
       "      <td>...</td>\n",
       "      <td>...</td>\n",
       "      <td>...</td>\n",
       "      <td>...</td>\n",
       "      <td>...</td>\n",
       "      <td>...</td>\n",
       "      <td>...</td>\n",
       "    </tr>\n",
       "    <tr>\n",
       "      <th>278441</th>\n",
       "      <td>3613.025964</td>\n",
       "      <td>42</td>\n",
       "      <td>0</td>\n",
       "      <td>1012.970574</td>\n",
       "      <td>6005.975615</td>\n",
       "      <td>6</td>\n",
       "      <td>2</td>\n",
       "      <td>1</td>\n",
       "      <td>0</td>\n",
       "      <td>0</td>\n",
       "      <td>1</td>\n",
       "    </tr>\n",
       "    <tr>\n",
       "      <th>278734</th>\n",
       "      <td>7.265225</td>\n",
       "      <td>53</td>\n",
       "      <td>1</td>\n",
       "      <td>0.157145</td>\n",
       "      <td>3750.000000</td>\n",
       "      <td>4</td>\n",
       "      <td>1</td>\n",
       "      <td>0</td>\n",
       "      <td>0</td>\n",
       "      <td>1</td>\n",
       "      <td>1</td>\n",
       "    </tr>\n",
       "    <tr>\n",
       "      <th>278925</th>\n",
       "      <td>4.179024</td>\n",
       "      <td>47</td>\n",
       "      <td>1</td>\n",
       "      <td>0.403553</td>\n",
       "      <td>3719.878173</td>\n",
       "      <td>3</td>\n",
       "      <td>0</td>\n",
       "      <td>0</td>\n",
       "      <td>2</td>\n",
       "      <td>2</td>\n",
       "      <td>1</td>\n",
       "    </tr>\n",
       "    <tr>\n",
       "      <th>279027</th>\n",
       "      <td>2.877930</td>\n",
       "      <td>55</td>\n",
       "      <td>0</td>\n",
       "      <td>0.232371</td>\n",
       "      <td>4000.000000</td>\n",
       "      <td>5</td>\n",
       "      <td>0</td>\n",
       "      <td>0</td>\n",
       "      <td>0</td>\n",
       "      <td>2</td>\n",
       "      <td>1</td>\n",
       "    </tr>\n",
       "    <tr>\n",
       "      <th>279775</th>\n",
       "      <td>2079.993400</td>\n",
       "      <td>57</td>\n",
       "      <td>0</td>\n",
       "      <td>0.269263</td>\n",
       "      <td>5978.749583</td>\n",
       "      <td>7</td>\n",
       "      <td>0</td>\n",
       "      <td>0</td>\n",
       "      <td>0</td>\n",
       "      <td>0</td>\n",
       "      <td>1</td>\n",
       "    </tr>\n",
       "  </tbody>\n",
       "</table>\n",
       "<p>833 rows × 11 columns</p>\n",
       "</div>"
      ],
      "text/plain": [
       "        RevolvingUtilizationOfUnsecuredLines  age  \\\n",
       "293                              2340.000000   45   \n",
       "697                              2066.000000   58   \n",
       "900                                 2.258964   33   \n",
       "1991                             1143.000000   44   \n",
       "2331                             6324.000000   59   \n",
       "...                                      ...  ...   \n",
       "278441                           3613.025964   42   \n",
       "278734                              7.265225   53   \n",
       "278925                              4.179024   47   \n",
       "279027                              2.877930   55   \n",
       "279775                           2079.993400   57   \n",
       "\n",
       "        NumberOfTime30-59DaysPastDueNotWorse    DebtRatio  MonthlyIncome  \\\n",
       "293                                        0     0.339333    8333.000000   \n",
       "697                                        0     0.271121    6000.000000   \n",
       "900                                        2     0.032484    2000.000000   \n",
       "1991                                       2     0.547762    6500.000000   \n",
       "2331                                       0     0.136673   11318.000000   \n",
       "...                                      ...          ...            ...   \n",
       "278441                                     0  1012.970574    6005.975615   \n",
       "278734                                     1     0.157145    3750.000000   \n",
       "278925                                     1     0.403553    3719.878173   \n",
       "279027                                     0     0.232371    4000.000000   \n",
       "279775                                     0     0.269263    5978.749583   \n",
       "\n",
       "        NumberOfOpenCreditLinesAndLoans  NumberOfTimes90DaysLate  \\\n",
       "293                                   7                        0   \n",
       "697                                   8                        1   \n",
       "900                                   1                        1   \n",
       "1991                                 13                        0   \n",
       "2331                                  4                        0   \n",
       "...                                 ...                      ...   \n",
       "278441                                6                        2   \n",
       "278734                                4                        1   \n",
       "278925                                3                        0   \n",
       "279027                                5                        0   \n",
       "279775                                7                        0   \n",
       "\n",
       "        NumberRealEstateLoansOrLines  NumberOfTime60-89DaysPastDueNotWorse  \\\n",
       "293                                2                                     0   \n",
       "697                                1                                     0   \n",
       "900                                0                                     0   \n",
       "1991                               4                                     0   \n",
       "2331                               1                                     0   \n",
       "...                              ...                                   ...   \n",
       "278441                             1                                     0   \n",
       "278734                             0                                     0   \n",
       "278925                             0                                     2   \n",
       "279027                             0                                     0   \n",
       "279775                             0                                     0   \n",
       "\n",
       "        NumberOfDependents  SeriousDlqin2yrs  \n",
       "293                      2                 0  \n",
       "697                      1                 1  \n",
       "900                      2                 0  \n",
       "1991                     2                 1  \n",
       "2331                     1                 0  \n",
       "...                    ...               ...  \n",
       "278441                   0                 1  \n",
       "278734                   1                 1  \n",
       "278925                   2                 1  \n",
       "279027                   2                 1  \n",
       "279775                   0                 1  \n",
       "\n",
       "[833 rows x 11 columns]"
      ]
     },
     "execution_count": 74,
     "metadata": {},
     "output_type": "execute_result"
    }
   ],
   "source": [
    "# Using the above function, lets get the lowerbound and upperbound values\n",
    "lowerbound,upperbound = outlier_treatment(bal_df['RevolvingUtilizationOfUnsecuredLines'])\n",
    "# check which column is considered as an outlier\n",
    "bal_df[(bal_df['RevolvingUtilizationOfUnsecuredLines'] < lowerbound) | (bal_df['RevolvingUtilizationOfUnsecuredLines'] > upperbound)]"
   ]
  },
  {
   "cell_type": "code",
   "execution_count": 75,
   "id": "f99788ac",
   "metadata": {
    "scrolled": true
   },
   "outputs": [
    {
     "data": {
      "text/html": [
       "<div>\n",
       "<style scoped>\n",
       "    .dataframe tbody tr th:only-of-type {\n",
       "        vertical-align: middle;\n",
       "    }\n",
       "\n",
       "    .dataframe tbody tr th {\n",
       "        vertical-align: top;\n",
       "    }\n",
       "\n",
       "    .dataframe thead th {\n",
       "        text-align: right;\n",
       "    }\n",
       "</style>\n",
       "<table border=\"1\" class=\"dataframe\">\n",
       "  <thead>\n",
       "    <tr style=\"text-align: right;\">\n",
       "      <th></th>\n",
       "      <th>RevolvingUtilizationOfUnsecuredLines</th>\n",
       "      <th>age</th>\n",
       "      <th>NumberOfTime30-59DaysPastDueNotWorse</th>\n",
       "      <th>DebtRatio</th>\n",
       "      <th>MonthlyIncome</th>\n",
       "      <th>NumberOfOpenCreditLinesAndLoans</th>\n",
       "      <th>NumberOfTimes90DaysLate</th>\n",
       "      <th>NumberRealEstateLoansOrLines</th>\n",
       "      <th>NumberOfTime60-89DaysPastDueNotWorse</th>\n",
       "      <th>NumberOfDependents</th>\n",
       "      <th>SeriousDlqin2yrs</th>\n",
       "    </tr>\n",
       "  </thead>\n",
       "  <tbody>\n",
       "  </tbody>\n",
       "</table>\n",
       "</div>"
      ],
      "text/plain": [
       "Empty DataFrame\n",
       "Columns: [RevolvingUtilizationOfUnsecuredLines, age, NumberOfTime30-59DaysPastDueNotWorse, DebtRatio, MonthlyIncome, NumberOfOpenCreditLinesAndLoans, NumberOfTimes90DaysLate, NumberRealEstateLoansOrLines, NumberOfTime60-89DaysPastDueNotWorse, NumberOfDependents, SeriousDlqin2yrs]\n",
       "Index: []"
      ]
     },
     "execution_count": 75,
     "metadata": {},
     "output_type": "execute_result"
    }
   ],
   "source": [
    "#Now lets remove the outliers from the dataset.\n",
    "bal_df.drop(bal_df[ (bal_df['RevolvingUtilizationOfUnsecuredLines'] > upperbound) | (bal_df['RevolvingUtilizationOfUnsecuredLines'] < lowerbound) ].index , inplace=True)\n",
    "# check which column is considered as an outlier\n",
    "bal_df[(bal_df['RevolvingUtilizationOfUnsecuredLines'] < lowerbound) | (bal_df['RevolvingUtilizationOfUnsecuredLines'] > upperbound)]"
   ]
  },
  {
   "cell_type": "code",
   "execution_count": 76,
   "id": "7751408d",
   "metadata": {},
   "outputs": [
    {
     "data": {
      "text/plain": [
       "<AxesSubplot:xlabel='NumberOfTime30-59DaysPastDueNotWorse'>"
      ]
     },
     "execution_count": 76,
     "metadata": {},
     "output_type": "execute_result"
    },
    {
     "data": {
      "image/png": "[encoded data removed]",
      "text/plain": [
       "<Figure size 432x288 with 1 Axes>"
      ]
     },
     "metadata": {
      "needs_background": "light"
     },
     "output_type": "display_data"
    }
   ],
   "source": [
    "sns.boxplot(bal_df['NumberOfTime30-59DaysPastDueNotWorse'])"
   ]
  },
  {
   "cell_type": "code",
   "execution_count": 77,
   "id": "d55f4bbe",
   "metadata": {},
   "outputs": [
    {
     "data": {
      "text/html": [
       "<div>\n",
       "<style scoped>\n",
       "    .dataframe tbody tr th:only-of-type {\n",
       "        vertical-align: middle;\n",
       "    }\n",
       "\n",
       "    .dataframe tbody tr th {\n",
       "        vertical-align: top;\n",
       "    }\n",
       "\n",
       "    .dataframe thead th {\n",
       "        text-align: right;\n",
       "    }\n",
       "</style>\n",
       "<table border=\"1\" class=\"dataframe\">\n",
       "  <thead>\n",
       "    <tr style=\"text-align: right;\">\n",
       "      <th></th>\n",
       "      <th>RevolvingUtilizationOfUnsecuredLines</th>\n",
       "      <th>age</th>\n",
       "      <th>NumberOfTime30-59DaysPastDueNotWorse</th>\n",
       "      <th>DebtRatio</th>\n",
       "      <th>MonthlyIncome</th>\n",
       "      <th>NumberOfOpenCreditLinesAndLoans</th>\n",
       "      <th>NumberOfTimes90DaysLate</th>\n",
       "      <th>NumberRealEstateLoansOrLines</th>\n",
       "      <th>NumberOfTime60-89DaysPastDueNotWorse</th>\n",
       "      <th>NumberOfDependents</th>\n",
       "      <th>SeriousDlqin2yrs</th>\n",
       "    </tr>\n",
       "  </thead>\n",
       "  <tbody>\n",
       "    <tr>\n",
       "      <th>13</th>\n",
       "      <td>0.964673</td>\n",
       "      <td>40</td>\n",
       "      <td>3</td>\n",
       "      <td>0.382965</td>\n",
       "      <td>13700.000000</td>\n",
       "      <td>9</td>\n",
       "      <td>3</td>\n",
       "      <td>1</td>\n",
       "      <td>1</td>\n",
       "      <td>2</td>\n",
       "      <td>1</td>\n",
       "    </tr>\n",
       "    <tr>\n",
       "      <th>36</th>\n",
       "      <td>0.881836</td>\n",
       "      <td>50</td>\n",
       "      <td>3</td>\n",
       "      <td>0.567858</td>\n",
       "      <td>4000.000000</td>\n",
       "      <td>9</td>\n",
       "      <td>0</td>\n",
       "      <td>1</td>\n",
       "      <td>0</td>\n",
       "      <td>1</td>\n",
       "      <td>0</td>\n",
       "    </tr>\n",
       "    <tr>\n",
       "      <th>183</th>\n",
       "      <td>0.184987</td>\n",
       "      <td>55</td>\n",
       "      <td>4</td>\n",
       "      <td>3144.000000</td>\n",
       "      <td>6670.221237</td>\n",
       "      <td>11</td>\n",
       "      <td>0</td>\n",
       "      <td>1</td>\n",
       "      <td>0</td>\n",
       "      <td>0</td>\n",
       "      <td>0</td>\n",
       "    </tr>\n",
       "    <tr>\n",
       "      <th>191</th>\n",
       "      <td>1.095083</td>\n",
       "      <td>53</td>\n",
       "      <td>5</td>\n",
       "      <td>0.536704</td>\n",
       "      <td>3500.000000</td>\n",
       "      <td>7</td>\n",
       "      <td>1</td>\n",
       "      <td>1</td>\n",
       "      <td>2</td>\n",
       "      <td>0</td>\n",
       "      <td>0</td>\n",
       "    </tr>\n",
       "    <tr>\n",
       "      <th>196</th>\n",
       "      <td>0.762159</td>\n",
       "      <td>44</td>\n",
       "      <td>4</td>\n",
       "      <td>0.224466</td>\n",
       "      <td>21000.000000</td>\n",
       "      <td>5</td>\n",
       "      <td>0</td>\n",
       "      <td>1</td>\n",
       "      <td>0</td>\n",
       "      <td>3</td>\n",
       "      <td>0</td>\n",
       "    </tr>\n",
       "    <tr>\n",
       "      <th>...</th>\n",
       "      <td>...</td>\n",
       "      <td>...</td>\n",
       "      <td>...</td>\n",
       "      <td>...</td>\n",
       "      <td>...</td>\n",
       "      <td>...</td>\n",
       "      <td>...</td>\n",
       "      <td>...</td>\n",
       "      <td>...</td>\n",
       "      <td>...</td>\n",
       "      <td>...</td>\n",
       "    </tr>\n",
       "    <tr>\n",
       "      <th>279904</th>\n",
       "      <td>0.314307</td>\n",
       "      <td>33</td>\n",
       "      <td>3</td>\n",
       "      <td>0.505223</td>\n",
       "      <td>5700.000000</td>\n",
       "      <td>5</td>\n",
       "      <td>0</td>\n",
       "      <td>2</td>\n",
       "      <td>0</td>\n",
       "      <td>3</td>\n",
       "      <td>1</td>\n",
       "    </tr>\n",
       "    <tr>\n",
       "      <th>279915</th>\n",
       "      <td>0.685749</td>\n",
       "      <td>59</td>\n",
       "      <td>3</td>\n",
       "      <td>7166.984416</td>\n",
       "      <td>6670.221237</td>\n",
       "      <td>22</td>\n",
       "      <td>0</td>\n",
       "      <td>3</td>\n",
       "      <td>0</td>\n",
       "      <td>0</td>\n",
       "      <td>1</td>\n",
       "    </tr>\n",
       "    <tr>\n",
       "      <th>279941</th>\n",
       "      <td>1.000000</td>\n",
       "      <td>59</td>\n",
       "      <td>98</td>\n",
       "      <td>0.000000</td>\n",
       "      <td>6670.221237</td>\n",
       "      <td>0</td>\n",
       "      <td>98</td>\n",
       "      <td>0</td>\n",
       "      <td>98</td>\n",
       "      <td>0</td>\n",
       "      <td>1</td>\n",
       "    </tr>\n",
       "    <tr>\n",
       "      <th>279943</th>\n",
       "      <td>1.000000</td>\n",
       "      <td>27</td>\n",
       "      <td>98</td>\n",
       "      <td>0.000000</td>\n",
       "      <td>1515.691686</td>\n",
       "      <td>0</td>\n",
       "      <td>98</td>\n",
       "      <td>0</td>\n",
       "      <td>98</td>\n",
       "      <td>0</td>\n",
       "      <td>1</td>\n",
       "    </tr>\n",
       "    <tr>\n",
       "      <th>279944</th>\n",
       "      <td>1.000000</td>\n",
       "      <td>42</td>\n",
       "      <td>98</td>\n",
       "      <td>0.000000</td>\n",
       "      <td>2189.928319</td>\n",
       "      <td>0</td>\n",
       "      <td>98</td>\n",
       "      <td>0</td>\n",
       "      <td>98</td>\n",
       "      <td>0</td>\n",
       "      <td>1</td>\n",
       "    </tr>\n",
       "  </tbody>\n",
       "</table>\n",
       "<p>12691 rows × 11 columns</p>\n",
       "</div>"
      ],
      "text/plain": [
       "        RevolvingUtilizationOfUnsecuredLines  age  \\\n",
       "13                                  0.964673   40   \n",
       "36                                  0.881836   50   \n",
       "183                                 0.184987   55   \n",
       "191                                 1.095083   53   \n",
       "196                                 0.762159   44   \n",
       "...                                      ...  ...   \n",
       "279904                              0.314307   33   \n",
       "279915                              0.685749   59   \n",
       "279941                              1.000000   59   \n",
       "279943                              1.000000   27   \n",
       "279944                              1.000000   42   \n",
       "\n",
       "        NumberOfTime30-59DaysPastDueNotWorse    DebtRatio  MonthlyIncome  \\\n",
       "13                                         3     0.382965   13700.000000   \n",
       "36                                         3     0.567858    4000.000000   \n",
       "183                                        4  3144.000000    6670.221237   \n",
       "191                                        5     0.536704    3500.000000   \n",
       "196                                        4     0.224466   21000.000000   \n",
       "...                                      ...          ...            ...   \n",
       "279904                                     3     0.505223    5700.000000   \n",
       "279915                                     3  7166.984416    6670.221237   \n",
       "279941                                    98     0.000000    6670.221237   \n",
       "279943                                    98     0.000000    1515.691686   \n",
       "279944                                    98     0.000000    2189.928319   \n",
       "\n",
       "        NumberOfOpenCreditLinesAndLoans  NumberOfTimes90DaysLate  \\\n",
       "13                                    9                        3   \n",
       "36                                    9                        0   \n",
       "183                                  11                        0   \n",
       "191                                   7                        1   \n",
       "196                                   5                        0   \n",
       "...                                 ...                      ...   \n",
       "279904                                5                        0   \n",
       "279915                               22                        0   \n",
       "279941                                0                       98   \n",
       "279943                                0                       98   \n",
       "279944                                0                       98   \n",
       "\n",
       "        NumberRealEstateLoansOrLines  NumberOfTime60-89DaysPastDueNotWorse  \\\n",
       "13                                 1                                     1   \n",
       "36                                 1                                     0   \n",
       "183                                1                                     0   \n",
       "191                                1                                     2   \n",
       "196                                1                                     0   \n",
       "...                              ...                                   ...   \n",
       "279904                             2                                     0   \n",
       "279915                             3                                     0   \n",
       "279941                             0                                    98   \n",
       "279943                             0                                    98   \n",
       "279944                             0                                    98   \n",
       "\n",
       "        NumberOfDependents  SeriousDlqin2yrs  \n",
       "13                       2                 1  \n",
       "36                       1                 0  \n",
       "183                      0                 0  \n",
       "191                      0                 0  \n",
       "196                      3                 0  \n",
       "...                    ...               ...  \n",
       "279904                   3                 1  \n",
       "279915                   0                 1  \n",
       "279941                   0                 1  \n",
       "279943                   0                 1  \n",
       "279944                   0                 1  \n",
       "\n",
       "[12691 rows x 11 columns]"
      ]
     },
     "execution_count": 77,
     "metadata": {},
     "output_type": "execute_result"
    }
   ],
   "source": [
    "# Using the above function, lets get the lowerbound and upperbound values\n",
    "lowerbound,upperbound = outlier_treatment(bal_df['NumberOfTime30-59DaysPastDueNotWorse'])\n",
    "# check which column is considered as an outlier\n",
    "bal_df[(bal_df['NumberOfTime30-59DaysPastDueNotWorse'] < lowerbound) | (bal_df['NumberOfTime30-59DaysPastDueNotWorse'] > upperbound)]"
   ]
  },
  {
   "cell_type": "code",
   "execution_count": 78,
   "id": "6a65aa4e",
   "metadata": {},
   "outputs": [
    {
     "data": {
      "text/html": [
       "<div>\n",
       "<style scoped>\n",
       "    .dataframe tbody tr th:only-of-type {\n",
       "        vertical-align: middle;\n",
       "    }\n",
       "\n",
       "    .dataframe tbody tr th {\n",
       "        vertical-align: top;\n",
       "    }\n",
       "\n",
       "    .dataframe thead th {\n",
       "        text-align: right;\n",
       "    }\n",
       "</style>\n",
       "<table border=\"1\" class=\"dataframe\">\n",
       "  <thead>\n",
       "    <tr style=\"text-align: right;\">\n",
       "      <th></th>\n",
       "      <th>RevolvingUtilizationOfUnsecuredLines</th>\n",
       "      <th>age</th>\n",
       "      <th>NumberOfTime30-59DaysPastDueNotWorse</th>\n",
       "      <th>DebtRatio</th>\n",
       "      <th>MonthlyIncome</th>\n",
       "      <th>NumberOfOpenCreditLinesAndLoans</th>\n",
       "      <th>NumberOfTimes90DaysLate</th>\n",
       "      <th>NumberRealEstateLoansOrLines</th>\n",
       "      <th>NumberOfTime60-89DaysPastDueNotWorse</th>\n",
       "      <th>NumberOfDependents</th>\n",
       "      <th>SeriousDlqin2yrs</th>\n",
       "    </tr>\n",
       "  </thead>\n",
       "  <tbody>\n",
       "  </tbody>\n",
       "</table>\n",
       "</div>"
      ],
      "text/plain": [
       "Empty DataFrame\n",
       "Columns: [RevolvingUtilizationOfUnsecuredLines, age, NumberOfTime30-59DaysPastDueNotWorse, DebtRatio, MonthlyIncome, NumberOfOpenCreditLinesAndLoans, NumberOfTimes90DaysLate, NumberRealEstateLoansOrLines, NumberOfTime60-89DaysPastDueNotWorse, NumberOfDependents, SeriousDlqin2yrs]\n",
       "Index: []"
      ]
     },
     "execution_count": 78,
     "metadata": {},
     "output_type": "execute_result"
    }
   ],
   "source": [
    "#Now lets remove the outliers from the dataset.\n",
    "bal_df.drop(bal_df[ (bal_df['NumberOfTime30-59DaysPastDueNotWorse'] > upperbound) | (bal_df['NumberOfTime30-59DaysPastDueNotWorse'] < lowerbound) ].index , inplace=True)\n",
    "# check which column is considered as an outlier\n",
    "bal_df[(bal_df['NumberOfTime30-59DaysPastDueNotWorse'] < lowerbound) | (bal_df['NumberOfTime30-59DaysPastDueNotWorse'] > upperbound)]"
   ]
  },
  {
   "cell_type": "code",
   "execution_count": 79,
   "id": "44680dbb",
   "metadata": {},
   "outputs": [
    {
     "data": {
      "text/plain": [
       "<AxesSubplot:xlabel='DebtRatio'>"
      ]
     },
     "execution_count": 79,
     "metadata": {},
     "output_type": "execute_result"
    },
    {
     "data": {
      "image/png": "[encoded data removed]",
      "text/plain": [
       "<Figure size 432x288 with 1 Axes>"
      ]
     },
     "metadata": {
      "needs_background": "light"
     },
     "output_type": "display_data"
    }
   ],
   "source": [
    "sns.boxplot(bal_df['DebtRatio'])"
   ]
  },
  {
   "cell_type": "code",
   "execution_count": 80,
   "id": "8935f54f",
   "metadata": {},
   "outputs": [
    {
     "data": {
      "text/html": [
       "<div>\n",
       "<style scoped>\n",
       "    .dataframe tbody tr th:only-of-type {\n",
       "        vertical-align: middle;\n",
       "    }\n",
       "\n",
       "    .dataframe tbody tr th {\n",
       "        vertical-align: top;\n",
       "    }\n",
       "\n",
       "    .dataframe thead th {\n",
       "        text-align: right;\n",
       "    }\n",
       "</style>\n",
       "<table border=\"1\" class=\"dataframe\">\n",
       "  <thead>\n",
       "    <tr style=\"text-align: right;\">\n",
       "      <th></th>\n",
       "      <th>RevolvingUtilizationOfUnsecuredLines</th>\n",
       "      <th>age</th>\n",
       "      <th>NumberOfTime30-59DaysPastDueNotWorse</th>\n",
       "      <th>DebtRatio</th>\n",
       "      <th>MonthlyIncome</th>\n",
       "      <th>NumberOfOpenCreditLinesAndLoans</th>\n",
       "      <th>NumberOfTimes90DaysLate</th>\n",
       "      <th>NumberRealEstateLoansOrLines</th>\n",
       "      <th>NumberOfTime60-89DaysPastDueNotWorse</th>\n",
       "      <th>NumberOfDependents</th>\n",
       "      <th>SeriousDlqin2yrs</th>\n",
       "    </tr>\n",
       "  </thead>\n",
       "  <tbody>\n",
       "    <tr>\n",
       "      <th>6</th>\n",
       "      <td>0.305682</td>\n",
       "      <td>57</td>\n",
       "      <td>0</td>\n",
       "      <td>5710.000000</td>\n",
       "      <td>6670.221237</td>\n",
       "      <td>8</td>\n",
       "      <td>0</td>\n",
       "      <td>3</td>\n",
       "      <td>0</td>\n",
       "      <td>0</td>\n",
       "      <td>0</td>\n",
       "    </tr>\n",
       "    <tr>\n",
       "      <th>8</th>\n",
       "      <td>0.116951</td>\n",
       "      <td>27</td>\n",
       "      <td>0</td>\n",
       "      <td>46.000000</td>\n",
       "      <td>6670.221237</td>\n",
       "      <td>2</td>\n",
       "      <td>0</td>\n",
       "      <td>0</td>\n",
       "      <td>0</td>\n",
       "      <td>0</td>\n",
       "      <td>0</td>\n",
       "    </tr>\n",
       "    <tr>\n",
       "      <th>14</th>\n",
       "      <td>0.019657</td>\n",
       "      <td>76</td>\n",
       "      <td>0</td>\n",
       "      <td>477.000000</td>\n",
       "      <td>0.000000</td>\n",
       "      <td>6</td>\n",
       "      <td>0</td>\n",
       "      <td>1</td>\n",
       "      <td>0</td>\n",
       "      <td>0</td>\n",
       "      <td>0</td>\n",
       "    </tr>\n",
       "    <tr>\n",
       "      <th>16</th>\n",
       "      <td>0.061086</td>\n",
       "      <td>78</td>\n",
       "      <td>0</td>\n",
       "      <td>2058.000000</td>\n",
       "      <td>6670.221237</td>\n",
       "      <td>10</td>\n",
       "      <td>0</td>\n",
       "      <td>2</td>\n",
       "      <td>0</td>\n",
       "      <td>0</td>\n",
       "      <td>0</td>\n",
       "    </tr>\n",
       "    <tr>\n",
       "      <th>32</th>\n",
       "      <td>0.083418</td>\n",
       "      <td>62</td>\n",
       "      <td>0</td>\n",
       "      <td>977.000000</td>\n",
       "      <td>6670.221237</td>\n",
       "      <td>6</td>\n",
       "      <td>0</td>\n",
       "      <td>1</td>\n",
       "      <td>0</td>\n",
       "      <td>0</td>\n",
       "      <td>0</td>\n",
       "    </tr>\n",
       "    <tr>\n",
       "      <th>...</th>\n",
       "      <td>...</td>\n",
       "      <td>...</td>\n",
       "      <td>...</td>\n",
       "      <td>...</td>\n",
       "      <td>...</td>\n",
       "      <td>...</td>\n",
       "      <td>...</td>\n",
       "      <td>...</td>\n",
       "      <td>...</td>\n",
       "      <td>...</td>\n",
       "      <td>...</td>\n",
       "    </tr>\n",
       "    <tr>\n",
       "      <th>279919</th>\n",
       "      <td>0.864989</td>\n",
       "      <td>77</td>\n",
       "      <td>0</td>\n",
       "      <td>186.288652</td>\n",
       "      <td>6670.221237</td>\n",
       "      <td>3</td>\n",
       "      <td>0</td>\n",
       "      <td>0</td>\n",
       "      <td>0</td>\n",
       "      <td>0</td>\n",
       "      <td>1</td>\n",
       "    </tr>\n",
       "    <tr>\n",
       "      <th>279932</th>\n",
       "      <td>0.549831</td>\n",
       "      <td>41</td>\n",
       "      <td>0</td>\n",
       "      <td>4023.733037</td>\n",
       "      <td>6670.221237</td>\n",
       "      <td>10</td>\n",
       "      <td>0</td>\n",
       "      <td>1</td>\n",
       "      <td>0</td>\n",
       "      <td>0</td>\n",
       "      <td>1</td>\n",
       "    </tr>\n",
       "    <tr>\n",
       "      <th>279937</th>\n",
       "      <td>0.016195</td>\n",
       "      <td>41</td>\n",
       "      <td>0</td>\n",
       "      <td>1060.975360</td>\n",
       "      <td>6670.221237</td>\n",
       "      <td>3</td>\n",
       "      <td>0</td>\n",
       "      <td>1</td>\n",
       "      <td>0</td>\n",
       "      <td>1</td>\n",
       "      <td>1</td>\n",
       "    </tr>\n",
       "    <tr>\n",
       "      <th>279945</th>\n",
       "      <td>0.412629</td>\n",
       "      <td>28</td>\n",
       "      <td>0</td>\n",
       "      <td>963.687584</td>\n",
       "      <td>6670.221237</td>\n",
       "      <td>12</td>\n",
       "      <td>0</td>\n",
       "      <td>0</td>\n",
       "      <td>0</td>\n",
       "      <td>0</td>\n",
       "      <td>1</td>\n",
       "    </tr>\n",
       "    <tr>\n",
       "      <th>279946</th>\n",
       "      <td>0.516632</td>\n",
       "      <td>62</td>\n",
       "      <td>0</td>\n",
       "      <td>997.714070</td>\n",
       "      <td>6670.221237</td>\n",
       "      <td>5</td>\n",
       "      <td>0</td>\n",
       "      <td>0</td>\n",
       "      <td>0</td>\n",
       "      <td>0</td>\n",
       "      <td>1</td>\n",
       "    </tr>\n",
       "  </tbody>\n",
       "</table>\n",
       "<p>51377 rows × 11 columns</p>\n",
       "</div>"
      ],
      "text/plain": [
       "        RevolvingUtilizationOfUnsecuredLines  age  \\\n",
       "6                                   0.305682   57   \n",
       "8                                   0.116951   27   \n",
       "14                                  0.019657   76   \n",
       "16                                  0.061086   78   \n",
       "32                                  0.083418   62   \n",
       "...                                      ...  ...   \n",
       "279919                              0.864989   77   \n",
       "279932                              0.549831   41   \n",
       "279937                              0.016195   41   \n",
       "279945                              0.412629   28   \n",
       "279946                              0.516632   62   \n",
       "\n",
       "        NumberOfTime30-59DaysPastDueNotWorse    DebtRatio  MonthlyIncome  \\\n",
       "6                                          0  5710.000000    6670.221237   \n",
       "8                                          0    46.000000    6670.221237   \n",
       "14                                         0   477.000000       0.000000   \n",
       "16                                         0  2058.000000    6670.221237   \n",
       "32                                         0   977.000000    6670.221237   \n",
       "...                                      ...          ...            ...   \n",
       "279919                                     0   186.288652    6670.221237   \n",
       "279932                                     0  4023.733037    6670.221237   \n",
       "279937                                     0  1060.975360    6670.221237   \n",
       "279945                                     0   963.687584    6670.221237   \n",
       "279946                                     0   997.714070    6670.221237   \n",
       "\n",
       "        NumberOfOpenCreditLinesAndLoans  NumberOfTimes90DaysLate  \\\n",
       "6                                     8                        0   \n",
       "8                                     2                        0   \n",
       "14                                    6                        0   \n",
       "16                                   10                        0   \n",
       "32                                    6                        0   \n",
       "...                                 ...                      ...   \n",
       "279919                                3                        0   \n",
       "279932                               10                        0   \n",
       "279937                                3                        0   \n",
       "279945                               12                        0   \n",
       "279946                                5                        0   \n",
       "\n",
       "        NumberRealEstateLoansOrLines  NumberOfTime60-89DaysPastDueNotWorse  \\\n",
       "6                                  3                                     0   \n",
       "8                                  0                                     0   \n",
       "14                                 1                                     0   \n",
       "16                                 2                                     0   \n",
       "32                                 1                                     0   \n",
       "...                              ...                                   ...   \n",
       "279919                             0                                     0   \n",
       "279932                             1                                     0   \n",
       "279937                             1                                     0   \n",
       "279945                             0                                     0   \n",
       "279946                             0                                     0   \n",
       "\n",
       "        NumberOfDependents  SeriousDlqin2yrs  \n",
       "6                        0                 0  \n",
       "8                        0                 0  \n",
       "14                       0                 0  \n",
       "16                       0                 0  \n",
       "32                       0                 0  \n",
       "...                    ...               ...  \n",
       "279919                   0                 1  \n",
       "279932                   0                 1  \n",
       "279937                   1                 1  \n",
       "279945                   0                 1  \n",
       "279946                   0                 1  \n",
       "\n",
       "[51377 rows x 11 columns]"
      ]
     },
     "execution_count": 80,
     "metadata": {},
     "output_type": "execute_result"
    }
   ],
   "source": [
    "# Using the above function, lets get the lowerbound and upperbound values\n",
    "lowerbound,upperbound = outlier_treatment(bal_df['DebtRatio'])\n",
    "# check which column is considered as an outlier\n",
    "bal_df[(bal_df['DebtRatio'] < lowerbound) | (bal_df['DebtRatio'] > upperbound)]"
   ]
  },
  {
   "cell_type": "code",
   "execution_count": 81,
   "id": "e33856cb",
   "metadata": {},
   "outputs": [],
   "source": [
    "from sklearn.preprocessing import StandardScaler"
   ]
  },
  {
   "cell_type": "code",
   "execution_count": 82,
   "id": "fdd90ed3",
   "metadata": {},
   "outputs": [
    {
     "data": {
      "text/html": [
       "<div>\n",
       "<style scoped>\n",
       "    .dataframe tbody tr th:only-of-type {\n",
       "        vertical-align: middle;\n",
       "    }\n",
       "\n",
       "    .dataframe tbody tr th {\n",
       "        vertical-align: top;\n",
       "    }\n",
       "\n",
       "    .dataframe thead th {\n",
       "        text-align: right;\n",
       "    }\n",
       "</style>\n",
       "<table border=\"1\" class=\"dataframe\">\n",
       "  <thead>\n",
       "    <tr style=\"text-align: right;\">\n",
       "      <th></th>\n",
       "      <th>RevolvingUtilizationOfUnsecuredLines</th>\n",
       "      <th>age</th>\n",
       "      <th>NumberOfTime30-59DaysPastDueNotWorse</th>\n",
       "      <th>DebtRatio</th>\n",
       "      <th>MonthlyIncome</th>\n",
       "      <th>NumberOfOpenCreditLinesAndLoans</th>\n",
       "      <th>NumberOfTimes90DaysLate</th>\n",
       "      <th>NumberRealEstateLoansOrLines</th>\n",
       "      <th>NumberOfTime60-89DaysPastDueNotWorse</th>\n",
       "      <th>NumberOfDependents</th>\n",
       "      <th>SeriousDlqin2yrs</th>\n",
       "    </tr>\n",
       "  </thead>\n",
       "  <tbody>\n",
       "    <tr>\n",
       "      <th>0</th>\n",
       "      <td>0.725147</td>\n",
       "      <td>-0.281296</td>\n",
       "      <td>2.939266</td>\n",
       "      <td>-0.190415</td>\n",
       "      <td>0.276703</td>\n",
       "      <td>1.008171</td>\n",
       "      <td>-0.305164</td>\n",
       "      <td>4.554321</td>\n",
       "      <td>-0.262103</td>\n",
       "      <td>1.275126</td>\n",
       "      <td>1.028755</td>\n",
       "    </tr>\n",
       "    <tr>\n",
       "      <th>1</th>\n",
       "      <td>1.218251</td>\n",
       "      <td>-0.646005</td>\n",
       "      <td>-0.516259</td>\n",
       "      <td>-0.190818</td>\n",
       "      <td>-0.359278</td>\n",
       "      <td>-0.774371</td>\n",
       "      <td>-0.305164</td>\n",
       "      <td>-0.775977</td>\n",
       "      <td>-0.262103</td>\n",
       "      <td>0.300021</td>\n",
       "      <td>-0.972049</td>\n",
       "    </tr>\n",
       "    <tr>\n",
       "      <th>2</th>\n",
       "      <td>0.446498</td>\n",
       "      <td>-0.791888</td>\n",
       "      <td>1.211504</td>\n",
       "      <td>-0.190840</td>\n",
       "      <td>-0.316164</td>\n",
       "      <td>-1.170492</td>\n",
       "      <td>1.141700</td>\n",
       "      <td>-0.775977</td>\n",
       "      <td>-0.262103</td>\n",
       "      <td>-0.675084</td>\n",
       "      <td>-0.972049</td>\n",
       "    </tr>\n",
       "    <tr>\n",
       "      <th>3</th>\n",
       "      <td>-0.648957</td>\n",
       "      <td>-1.375422</td>\n",
       "      <td>-0.516259</td>\n",
       "      <td>-0.190869</td>\n",
       "      <td>-0.290998</td>\n",
       "      <td>-0.576311</td>\n",
       "      <td>-0.305164</td>\n",
       "      <td>-0.775977</td>\n",
       "      <td>-0.262103</td>\n",
       "      <td>-0.675084</td>\n",
       "      <td>-0.972049</td>\n",
       "    </tr>\n",
       "    <tr>\n",
       "      <th>4</th>\n",
       "      <td>1.089411</td>\n",
       "      <td>0.010471</td>\n",
       "      <td>1.211504</td>\n",
       "      <td>-0.190875</td>\n",
       "      <td>5.589688</td>\n",
       "      <td>-0.180191</td>\n",
       "      <td>-0.305164</td>\n",
       "      <td>0.112406</td>\n",
       "      <td>-0.262103</td>\n",
       "      <td>-0.675084</td>\n",
       "      <td>-0.972049</td>\n",
       "    </tr>\n",
       "  </tbody>\n",
       "</table>\n",
       "</div>"
      ],
      "text/plain": [
       "   RevolvingUtilizationOfUnsecuredLines       age  \\\n",
       "0                              0.725147 -0.281296   \n",
       "1                              1.218251 -0.646005   \n",
       "2                              0.446498 -0.791888   \n",
       "3                             -0.648957 -1.375422   \n",
       "4                              1.089411  0.010471   \n",
       "\n",
       "   NumberOfTime30-59DaysPastDueNotWorse  DebtRatio  MonthlyIncome  \\\n",
       "0                              2.939266  -0.190415       0.276703   \n",
       "1                             -0.516259  -0.190818      -0.359278   \n",
       "2                              1.211504  -0.190840      -0.316164   \n",
       "3                             -0.516259  -0.190869      -0.290998   \n",
       "4                              1.211504  -0.190875       5.589688   \n",
       "\n",
       "   NumberOfOpenCreditLinesAndLoans  NumberOfTimes90DaysLate  \\\n",
       "0                         1.008171                -0.305164   \n",
       "1                        -0.774371                -0.305164   \n",
       "2                        -1.170492                 1.141700   \n",
       "3                        -0.576311                -0.305164   \n",
       "4                        -0.180191                -0.305164   \n",
       "\n",
       "   NumberRealEstateLoansOrLines  NumberOfTime60-89DaysPastDueNotWorse  \\\n",
       "0                      4.554321                             -0.262103   \n",
       "1                     -0.775977                             -0.262103   \n",
       "2                     -0.775977                             -0.262103   \n",
       "3                     -0.775977                             -0.262103   \n",
       "4                      0.112406                             -0.262103   \n",
       "\n",
       "   NumberOfDependents  SeriousDlqin2yrs  \n",
       "0            1.275126          1.028755  \n",
       "1            0.300021         -0.972049  \n",
       "2           -0.675084         -0.972049  \n",
       "3           -0.675084         -0.972049  \n",
       "4           -0.675084         -0.972049  "
      ]
     },
     "execution_count": 82,
     "metadata": {},
     "output_type": "execute_result"
    }
   ],
   "source": [
    "scalar= StandardScaler()\n",
    "scaled_df= scalar.fit_transform(bal_df)\n",
    "scaled_df=pd.DataFrame(scaled_df,columns=bal_df.columns)\n",
    "scaled_df.head()"
   ]
  },
  {
   "cell_type": "code",
   "execution_count": 83,
   "id": "4a7141af",
   "metadata": {},
   "outputs": [],
   "source": [
    "#apply various classification algorithms\n",
    "from sklearn.linear_model import LogisticRegression\n",
    "from sklearn.tree import DecisionTreeClassifier\n",
    "from sklearn.ensemble import RandomForestClassifier"
   ]
  },
  {
   "cell_type": "code",
   "execution_count": 84,
   "id": "e6cdd8a1",
   "metadata": {},
   "outputs": [],
   "source": [
    "U= bal_df.drop(['SeriousDlqin2yrs'], axis = 1)\n",
    "V = bal_df[['SeriousDlqin2yrs']]"
   ]
  },
  {
   "cell_type": "code",
   "execution_count": 85,
   "id": "3efe678b",
   "metadata": {
    "scrolled": true
   },
   "outputs": [
    {
     "name": "stdout",
     "output_type": "stream",
     "text": [
      "(185266, 10) (79401, 10) (185266, 1) (79401, 1)\n"
     ]
    }
   ],
   "source": [
    "#Splitting into train and test data\n",
    "x_train,x_test,y_train,y_test=train_test_split(U,V, test_size=0.3,random_state=1)\n",
    "print(x_train.shape,x_test.shape,y_train.shape,y_test.shape)"
   ]
  },
  {
   "cell_type": "markdown",
   "id": "40fcddbb",
   "metadata": {},
   "source": [
    "# Application of Algorithms"
   ]
  },
  {
   "cell_type": "markdown",
   "id": "d2095cd7",
   "metadata": {},
   "source": [
    "## Logistic Regression"
   ]
  },
  {
   "cell_type": "code",
   "execution_count": 90,
   "id": "6805929b",
   "metadata": {},
   "outputs": [
    {
     "data": {
      "text/plain": [
       "array([0, 0, 1, ..., 0, 0, 0], dtype=int64)"
      ]
     },
     "execution_count": 90,
     "metadata": {},
     "output_type": "execute_result"
    }
   ],
   "source": [
    "#Logistic regression Model\n",
    "log_regressor= LogisticRegression()\n",
    "log_reg=log_regressor.fit(x_train,y_train)\n",
    "y_pred_log=log_reg.predict(x_test)\n",
    "y_pred_train_log=log_reg.predict(x_train)\n",
    "y_pred_log"
   ]
  },
  {
   "cell_type": "code",
   "execution_count": 93,
   "id": "0faa8188",
   "metadata": {},
   "outputs": [
    {
     "name": "stdout",
     "output_type": "stream",
     "text": [
      "training accuracy using logistic regression is : 0.7417011216305205\n",
      "testing accuracy logistic regression is : 0.7424843515824737\n"
     ]
    }
   ],
   "source": [
    "#Evauluating the accuracy score of the models\n",
    "log_reg_train_acc=accuracy_score(y_train,y_pred_train_log)\n",
    "log_reg_test_acc=accuracy_score(y_test,y_pred_log)\n",
    "print(\"training accuracy using logistic regression is :\",log_reg_train_acc)\n",
    "print(\"testing accuracy logistic regression is :\", log_reg_test_acc)"
   ]
  },
  {
   "cell_type": "code",
   "execution_count": 94,
   "id": "52c33c7b",
   "metadata": {},
   "outputs": [
    {
     "name": "stdout",
     "output_type": "stream",
     "text": [
      "              precision    recall  f1-score   support\n",
      "\n",
      "           0       0.74      0.78      0.76     41097\n",
      "           1       0.75      0.70      0.72     38304\n",
      "\n",
      "    accuracy                           0.74     79401\n",
      "   macro avg       0.74      0.74      0.74     79401\n",
      "weighted avg       0.74      0.74      0.74     79401\n",
      "\n"
     ]
    }
   ],
   "source": [
    "#evaluating the classification report of the model\n",
    "log_reg_cls_rpt=classification_report(y_test,y_pred_log)\n",
    "print(log_reg_cls_rpt)"
   ]
  },
  {
   "cell_type": "code",
   "execution_count": 95,
   "id": "85170af1",
   "metadata": {
    "scrolled": true
   },
   "outputs": [
    {
     "name": "stdout",
     "output_type": "stream",
     "text": [
      "logistic regreesion model ROC-AUC score: 0.7409645929143246\n"
     ]
    },
    {
     "data": {
      "image/png": "[encoded data removed]",
      "text/plain": [
       "<Figure size 432x288 with 1 Axes>"
      ]
     },
     "metadata": {
      "needs_background": "light"
     },
     "output_type": "display_data"
    }
   ],
   "source": [
    "# ROC AUC curve for logistic regression\n",
    "fpr, tpr, thresholds = roc_curve(y_test, y_pred_log)\n",
    "plt.plot(fpr, tpr)\n",
    "plt.xlabel('False Positive Rate')\n",
    "plt.ylabel('True Positive Rate')\n",
    "print(f'logistic regreesion model ROC-AUC score: {roc_auc_score(y_test, y_pred_log)}')"
   ]
  },
  {
   "cell_type": "markdown",
   "id": "1dfde969",
   "metadata": {},
   "source": [
    "## Decision Tree "
   ]
  },
  {
   "cell_type": "code",
   "execution_count": 96,
   "id": "13667c4b",
   "metadata": {},
   "outputs": [
    {
     "name": "stdout",
     "output_type": "stream",
     "text": [
      "Y train prediction using decision tree is : [0 0 0 ... 0 0 1]\n",
      "Y test prediction using decision tree is : [0 1 0 ... 0 0 0]\n"
     ]
    }
   ],
   "source": [
    "#Decision Tree Classifier Model\n",
    "dt_classfier=DecisionTreeClassifier()\n",
    "dt_cls=dt_classfier.fit(x_train,y_train)\n",
    "y_pred_train_dt=dt_cls.predict(x_train)\n",
    "y_pred_dt=dt_cls.predict(x_test)\n",
    "print(\"Y train prediction using decision tree is :\",y_pred_train_dt)\n",
    "print(\"Y test prediction using decision tree is :\",y_pred_dt)"
   ]
  },
  {
   "cell_type": "code",
   "execution_count": 97,
   "id": "23efea05",
   "metadata": {},
   "outputs": [
    {
     "name": "stdout",
     "output_type": "stream",
     "text": [
      "training accuracy using  decision tree is : 0.9994224520419289\n",
      "testing accuracy using  decision tree is : 0.7929119280613595\n"
     ]
    }
   ],
   "source": [
    "#decision tree classfier accuracy score\n",
    "dt_cls_train_acc=accuracy_score(y_train,y_pred_train_dt)\n",
    "dt_cls_test_acc=accuracy_score(y_test,y_pred_dt)\n",
    "print(\"training accuracy using  decision tree is :\",dt_cls_train_acc)\n",
    "print(\"testing accuracy using  decision tree is :\", dt_cls_test_acc)"
   ]
  },
  {
   "cell_type": "code",
   "execution_count": 98,
   "id": "02949371",
   "metadata": {
    "scrolled": true
   },
   "outputs": [
    {
     "name": "stdout",
     "output_type": "stream",
     "text": [
      "              precision    recall  f1-score   support\n",
      "\n",
      "           0       0.81      0.78      0.80     41097\n",
      "           1       0.77      0.81      0.79     38304\n",
      "\n",
      "    accuracy                           0.79     79401\n",
      "   macro avg       0.79      0.79      0.79     79401\n",
      "weighted avg       0.79      0.79      0.79     79401\n",
      "\n"
     ]
    }
   ],
   "source": [
    "#decision tree classifier classification report\n",
    "print(classification_report(y_test,y_pred_dt))"
   ]
  },
  {
   "cell_type": "code",
   "execution_count": 99,
   "id": "9509c3ab",
   "metadata": {},
   "outputs": [
    {
     "name": "stdout",
     "output_type": "stream",
     "text": [
      "decision tree model ROC-AUC score: 0.7934755223414522\n"
     ]
    },
    {
     "data": {
      "image/png": "[encoded data removed]",
      "text/plain": [
       "<Figure size 432x288 with 1 Axes>"
      ]
     },
     "metadata": {
      "needs_background": "light"
     },
     "output_type": "display_data"
    }
   ],
   "source": [
    "# ROC AUC curve for decision tree\n",
    "fpr, tpr, thresholds = roc_curve(y_test, y_pred_dt)\n",
    "plt.plot(fpr, tpr)\n",
    "plt.xlabel('False Positive Rate')\n",
    "plt.ylabel('True Positive Rate')\n",
    "print(f'decision tree model ROC-AUC score: {roc_auc_score(y_test, y_pred_dt)}')"
   ]
  },
  {
   "cell_type": "markdown",
   "id": "0a7d65eb",
   "metadata": {},
   "source": [
    "## Random Forest"
   ]
  },
  {
   "cell_type": "code",
   "execution_count": 100,
   "id": "f04c9a2f",
   "metadata": {},
   "outputs": [
    {
     "name": "stdout",
     "output_type": "stream",
     "text": [
      "Y train prediction using random forest is : [0 0 0 ... 0 0 1]\n",
      "Y test prediction using random forest is : [0 0 0 ... 0 0 0]\n"
     ]
    }
   ],
   "source": [
    "# Random forest classfier model\n",
    "rf_classfier= RandomForestClassifier()\n",
    "rf_cls= rf_classfier.fit(x_train,y_train)\n",
    "y_pred_train_rf=rf_cls.predict(x_train)\n",
    "y_pred_rf=rf_cls.predict(x_test)\n",
    "print(\"Y train prediction using random forest is :\",y_pred_train_rf)\n",
    "print(\"Y test prediction using random forest is :\",y_pred_rf)"
   ]
  },
  {
   "cell_type": "code",
   "execution_count": 101,
   "id": "0218e7ab",
   "metadata": {},
   "outputs": [
    {
     "name": "stdout",
     "output_type": "stream",
     "text": [
      "training accuracy using  decision tree is : 0.999400861464057\n",
      "testing accuracy using  decision tree is : 0.8577347892343925\n"
     ]
    }
   ],
   "source": [
    "#Random forest classifier accuracy score\n",
    "rf_cls_train_acc=accuracy_score(y_train,y_pred_train_rf)\n",
    "rf_cls_test_acc=accuracy_score(y_test,y_pred_rf)\n",
    "print(\"training accuracy using  decision tree is :\",rf_cls_train_acc)\n",
    "print(\"testing accuracy using  decision tree is :\", rf_cls_test_acc)"
   ]
  },
  {
   "cell_type": "code",
   "execution_count": 102,
   "id": "f0ed14f4",
   "metadata": {},
   "outputs": [
    {
     "name": "stdout",
     "output_type": "stream",
     "text": [
      "              precision    recall  f1-score   support\n",
      "\n",
      "           0       0.89      0.83      0.86     41097\n",
      "           1       0.83      0.89      0.86     38304\n",
      "\n",
      "    accuracy                           0.86     79401\n",
      "   macro avg       0.86      0.86      0.86     79401\n",
      "weighted avg       0.86      0.86      0.86     79401\n",
      "\n"
     ]
    }
   ],
   "source": [
    "#Random forest classifier Classification report\n",
    "print(classification_report(y_test,y_pred_rf))"
   ]
  },
  {
   "cell_type": "code",
   "execution_count": 103,
   "id": "68ef6eb6",
   "metadata": {},
   "outputs": [
    {
     "name": "stdout",
     "output_type": "stream",
     "text": [
      "random forest model ROC-AUC score: 0.8586993880331898\n"
     ]
    },
    {
     "data": {
      "image/png": "[encoded data removed]",
      "text/plain": [
       "<Figure size 432x288 with 1 Axes>"
      ]
     },
     "metadata": {
      "needs_background": "light"
     },
     "output_type": "display_data"
    }
   ],
   "source": [
    "# ROC AUC curve for random forest\n",
    "fpr, tpr, thresholds = roc_curve(y_test, y_pred_rf)\n",
    "plt.plot(fpr, tpr)\n",
    "plt.xlabel('False Positive Rate')\n",
    "plt.ylabel('True Positive Rate')\n",
    "print(f'random forest model ROC-AUC score: {roc_auc_score(y_test, y_pred_rf)}')"
   ]
  },
  {
   "cell_type": "markdown",
   "id": "84e3b660",
   "metadata": {},
   "source": [
    "## K Nearest Neighbour"
   ]
  },
  {
   "cell_type": "code",
   "execution_count": 104,
   "id": "fa6bdb26",
   "metadata": {},
   "outputs": [
    {
     "name": "stdout",
     "output_type": "stream",
     "text": [
      "Y train prediction using K nearest neighbour is : [0 0 1 ... 0 0 1]\n",
      "Y test prediction using K nearest neighbour is : [0 0 0 ... 1 0 0]\n"
     ]
    }
   ],
   "source": [
    "# KNN classfier model\n",
    "knn_classfier= KNeighborsClassifier()\n",
    "knn_cls= knn_classfier.fit(x_train,y_train)\n",
    "y_pred_train_knn=knn_cls.predict(x_train)\n",
    "y_pred_knn=knn_cls.predict(x_test)\n",
    "print(\"Y train prediction using K nearest neighbour is :\",y_pred_train_knn)\n",
    "print(\"Y test prediction using K nearest neighbour is :\",y_pred_knn)"
   ]
  },
  {
   "cell_type": "code",
   "execution_count": 105,
   "id": "e785d434",
   "metadata": {},
   "outputs": [
    {
     "name": "stdout",
     "output_type": "stream",
     "text": [
      "training accuracy using K nearest neighbour is : 0.8880474560901622\n",
      "testing accuracy using K nearest neighbour is : 0.8333396304832433\n"
     ]
    }
   ],
   "source": [
    "#KNN classifier accuracy score\n",
    "knn_cls_train_acc=accuracy_score(y_train,y_pred_train_knn)\n",
    "knn_cls_test_acc=accuracy_score(y_test,y_pred_knn)\n",
    "print(\"training accuracy using K nearest neighbour is :\",knn_cls_train_acc)\n",
    "print(\"testing accuracy using K nearest neighbour is :\",knn_cls_test_acc)"
   ]
  },
  {
   "cell_type": "code",
   "execution_count": 106,
   "id": "a52ae349",
   "metadata": {},
   "outputs": [
    {
     "name": "stdout",
     "output_type": "stream",
     "text": [
      "              precision    recall  f1-score   support\n",
      "\n",
      "           0       0.92      0.75      0.82     41097\n",
      "           1       0.77      0.93      0.84     38304\n",
      "\n",
      "    accuracy                           0.83     79401\n",
      "   macro avg       0.84      0.84      0.83     79401\n",
      "weighted avg       0.85      0.83      0.83     79401\n",
      "\n"
     ]
    }
   ],
   "source": [
    "#KNN classifier Classification report\n",
    "print(classification_report(y_test,y_pred_knn))"
   ]
  },
  {
   "cell_type": "code",
   "execution_count": 107,
   "id": "e823585f",
   "metadata": {},
   "outputs": [
    {
     "name": "stdout",
     "output_type": "stream",
     "text": [
      "K nearest neighbour model ROC-AUC score: 0.8365561456229571\n"
     ]
    },
    {
     "data": {
      "image/png": "[encoded data removed]",
      "text/plain": [
       "<Figure size 432x288 with 1 Axes>"
      ]
     },
     "metadata": {
      "needs_background": "light"
     },
     "output_type": "display_data"
    }
   ],
   "source": [
    "# ROC AUC curve for decision tree\n",
    "fpr, tpr, thresholds = roc_curve(y_test, y_pred_knn)\n",
    "plt.plot(fpr, tpr)\n",
    "plt.xlabel('False Positive Rate')\n",
    "plt.ylabel('True Positive Rate')\n",
    "print(f'K nearest neighbour model ROC-AUC score: {roc_auc_score(y_test, y_pred_knn)}')"
   ]
  },
  {
   "cell_type": "markdown",
   "id": "b14de55f",
   "metadata": {},
   "source": [
    "# Evaluated scores"
   ]
  },
  {
   "cell_type": "markdown",
   "id": "4b2bdcf9",
   "metadata": {},
   "source": [
    "## Accuracy scores of the algorithms used"
   ]
  },
  {
   "cell_type": "code",
   "execution_count": 108,
   "id": "60a2d93b",
   "metadata": {
    "scrolled": true
   },
   "outputs": [
    {
     "name": "stdout",
     "output_type": "stream",
     "text": [
      "Accuracy score using logistic regression algorithm is:  0.7424843515824737\n",
      "Accuracy score using decision tree algorithm is:  0.7929119280613595\n",
      "Accuracy score using random forest algorithm is:  0.8577347892343925\n",
      "Accuracy score using kn nearest neighbour algorithm is:  0.8333396304832433\n"
     ]
    }
   ],
   "source": [
    "print(\"Accuracy score using logistic regression algorithm is: \", log_reg_test_acc)\n",
    "print(\"Accuracy score using decision tree algorithm is: \", dt_cls_test_acc)\n",
    "print(\"Accuracy score using random forest algorithm is: \",rf_cls_test_acc)\n",
    "print(\"Accuracy score using kn nearest neighbour algorithm is: \",knn_cls_test_acc)"
   ]
  },
  {
   "cell_type": "markdown",
   "id": "2c5c217e",
   "metadata": {},
   "source": [
    "## ROC-AUC scores of the algorithms used"
   ]
  },
  {
   "cell_type": "code",
   "execution_count": 109,
   "id": "828acc3a",
   "metadata": {},
   "outputs": [
    {
     "name": "stdout",
     "output_type": "stream",
     "text": [
      "logistic regression model ROC-AUC score is: 0.7409645929143246\n",
      "decision tree model ROC-AUC score is: 0.7934755223414522\n",
      "random forest model ROC-AUC score is: 0.8586993880331898\n",
      "K nearest neighbour model ROC-AUC score is: 0.8365561456229571\n"
     ]
    }
   ],
   "source": [
    "print(f'logistic regression model ROC-AUC score is: {roc_auc_score(y_test, y_pred_log)}')\n",
    "print(f'decision tree model ROC-AUC score is: {roc_auc_score(y_test, y_pred_dt)}')\n",
    "print(f'random forest model ROC-AUC score is: {roc_auc_score(y_test, y_pred_rf)}')\n",
    "print(f'K nearest neighbour model ROC-AUC score is: {roc_auc_score(y_test, y_pred_knn)}')"
   ]
  },
  {
   "cell_type": "markdown",
   "id": "909d0b74",
   "metadata": {},
   "source": [
    "## Confusion Matrix of the algorithms used"
   ]
  },
  {
   "cell_type": "code",
   "execution_count": 110,
   "id": "c95532ad",
   "metadata": {},
   "outputs": [
    {
     "name": "stdout",
     "output_type": "stream",
     "text": [
      "Confusion Matrix using logistic regression is :\n",
      " [[32227  8870]\n",
      " [11577 26727]]\n",
      "Confusion Matrix using decision tree is :\n",
      " [[31951  9146]\n",
      " [ 7297 31007]]\n",
      "Confusion Matrix using random forest is :\n",
      " [[34163  6934]\n",
      " [ 4362 33942]]\n",
      "Confusion Matrix using K nearest neighbour is :\n",
      " [[30622 10475]\n",
      " [ 2758 35546]]\n"
     ]
    }
   ],
   "source": [
    "print(\"Confusion Matrix using logistic regression is :\\n\", confusion_matrix(y_test, y_pred_log))\n",
    "print(\"Confusion Matrix using decision tree is :\\n\", confusion_matrix(y_test, y_pred_dt))\n",
    "print(\"Confusion Matrix using random forest is :\\n\", confusion_matrix(y_test, y_pred_rf))\n",
    "print(\"Confusion Matrix using K nearest neighbour is :\\n\", confusion_matrix(y_test, y_pred_knn))"
   ]
  },
  {
   "cell_type": "markdown",
   "id": "3468da21",
   "metadata": {},
   "source": [
    "# 1 Testing test data "
   ]
  },
  {
   "cell_type": "code",
   "execution_count": 111,
   "id": "c84b9a5d",
   "metadata": {},
   "outputs": [
    {
     "data": {
      "text/html": [
       "<div>\n",
       "<style scoped>\n",
       "    .dataframe tbody tr th:only-of-type {\n",
       "        vertical-align: middle;\n",
       "    }\n",
       "\n",
       "    .dataframe tbody tr th {\n",
       "        vertical-align: top;\n",
       "    }\n",
       "\n",
       "    .dataframe thead th {\n",
       "        text-align: right;\n",
       "    }\n",
       "</style>\n",
       "<table border=\"1\" class=\"dataframe\">\n",
       "  <thead>\n",
       "    <tr style=\"text-align: right;\">\n",
       "      <th></th>\n",
       "      <th>SeriousDlqin2yrs</th>\n",
       "      <th>RevolvingUtilizationOfUnsecuredLines</th>\n",
       "      <th>age</th>\n",
       "      <th>NumberOfTime30-59DaysPastDueNotWorse</th>\n",
       "      <th>DebtRatio</th>\n",
       "      <th>MonthlyIncome</th>\n",
       "      <th>NumberOfOpenCreditLinesAndLoans</th>\n",
       "      <th>NumberOfTimes90DaysLate</th>\n",
       "      <th>NumberRealEstateLoansOrLines</th>\n",
       "      <th>NumberOfTime60-89DaysPastDueNotWorse</th>\n",
       "      <th>NumberOfDependents</th>\n",
       "    </tr>\n",
       "  </thead>\n",
       "  <tbody>\n",
       "    <tr>\n",
       "      <th>0</th>\n",
       "      <td>NaN</td>\n",
       "      <td>-0.022556</td>\n",
       "      <td>-0.636376</td>\n",
       "      <td>-0.099983</td>\n",
       "      <td>-0.210891</td>\n",
       "      <td>-0.035329</td>\n",
       "      <td>-0.865756</td>\n",
       "      <td>-0.0657</td>\n",
       "      <td>-0.912475</td>\n",
       "      <td>-0.060023</td>\n",
       "      <td>-0.663791</td>\n",
       "    </tr>\n",
       "    <tr>\n",
       "      <th>1</th>\n",
       "      <td>NaN</td>\n",
       "      <td>-0.024709</td>\n",
       "      <td>0.310870</td>\n",
       "      <td>-0.099983</td>\n",
       "      <td>-0.210677</td>\n",
       "      <td>0.069920</td>\n",
       "      <td>1.272627</td>\n",
       "      <td>-0.0657</td>\n",
       "      <td>2.690325</td>\n",
       "      <td>-0.060023</td>\n",
       "      <td>1.108326</td>\n",
       "    </tr>\n",
       "    <tr>\n",
       "      <th>2</th>\n",
       "      <td>NaN</td>\n",
       "      <td>-0.026850</td>\n",
       "      <td>0.446191</td>\n",
       "      <td>-0.099983</td>\n",
       "      <td>-0.210578</td>\n",
       "      <td>-0.054201</td>\n",
       "      <td>0.689431</td>\n",
       "      <td>-0.0657</td>\n",
       "      <td>-0.011775</td>\n",
       "      <td>-0.060023</td>\n",
       "      <td>1.108326</td>\n",
       "    </tr>\n",
       "    <tr>\n",
       "      <th>3</th>\n",
       "      <td>NaN</td>\n",
       "      <td>-0.025641</td>\n",
       "      <td>-0.974678</td>\n",
       "      <td>0.120356</td>\n",
       "      <td>-0.210432</td>\n",
       "      <td>-0.111796</td>\n",
       "      <td>-0.282561</td>\n",
       "      <td>-0.0657</td>\n",
       "      <td>0.888925</td>\n",
       "      <td>-0.060023</td>\n",
       "      <td>-0.663791</td>\n",
       "    </tr>\n",
       "    <tr>\n",
       "      <th>4</th>\n",
       "      <td>NaN</td>\n",
       "      <td>-0.021972</td>\n",
       "      <td>-1.718943</td>\n",
       "      <td>-0.099983</td>\n",
       "      <td>-0.210987</td>\n",
       "      <td>-0.091456</td>\n",
       "      <td>-0.865756</td>\n",
       "      <td>-0.0657</td>\n",
       "      <td>-0.912475</td>\n",
       "      <td>-0.060023</td>\n",
       "      <td>0.222267</td>\n",
       "    </tr>\n",
       "  </tbody>\n",
       "</table>\n",
       "</div>"
      ],
      "text/plain": [
       "   SeriousDlqin2yrs  RevolvingUtilizationOfUnsecuredLines       age  \\\n",
       "0               NaN                             -0.022556 -0.636376   \n",
       "1               NaN                             -0.024709  0.310870   \n",
       "2               NaN                             -0.026850  0.446191   \n",
       "3               NaN                             -0.025641 -0.974678   \n",
       "4               NaN                             -0.021972 -1.718943   \n",
       "\n",
       "   NumberOfTime30-59DaysPastDueNotWorse  DebtRatio  MonthlyIncome  \\\n",
       "0                             -0.099983  -0.210891      -0.035329   \n",
       "1                             -0.099983  -0.210677       0.069920   \n",
       "2                             -0.099983  -0.210578      -0.054201   \n",
       "3                              0.120356  -0.210432      -0.111796   \n",
       "4                             -0.099983  -0.210987      -0.091456   \n",
       "\n",
       "   NumberOfOpenCreditLinesAndLoans  NumberOfTimes90DaysLate  \\\n",
       "0                        -0.865756                  -0.0657   \n",
       "1                         1.272627                  -0.0657   \n",
       "2                         0.689431                  -0.0657   \n",
       "3                        -0.282561                  -0.0657   \n",
       "4                        -0.865756                  -0.0657   \n",
       "\n",
       "   NumberRealEstateLoansOrLines  NumberOfTime60-89DaysPastDueNotWorse  \\\n",
       "0                     -0.912475                             -0.060023   \n",
       "1                      2.690325                             -0.060023   \n",
       "2                     -0.011775                             -0.060023   \n",
       "3                      0.888925                             -0.060023   \n",
       "4                     -0.912475                             -0.060023   \n",
       "\n",
       "   NumberOfDependents  \n",
       "0           -0.663791  \n",
       "1            1.108326  \n",
       "2            1.108326  \n",
       "3           -0.663791  \n",
       "4            0.222267  "
      ]
     },
     "execution_count": 111,
     "metadata": {},
     "output_type": "execute_result"
    }
   ],
   "source": [
    "scalar= StandardScaler()\n",
    "scaled_df= scalar.fit_transform(test_df)\n",
    "scaled_df=pd.DataFrame(scaled_df,columns=test_df.columns)\n",
    "scaled_df.head()"
   ]
  },
  {
   "cell_type": "code",
   "execution_count": 112,
   "id": "9b4f72d9",
   "metadata": {},
   "outputs": [],
   "source": [
    "H= test_df.drop(['SeriousDlqin2yrs'], axis = 1)\n",
    "I = test_df[['SeriousDlqin2yrs']]"
   ]
  },
  {
   "cell_type": "code",
   "execution_count": 113,
   "id": "0a1a31a8",
   "metadata": {},
   "outputs": [
    {
     "name": "stdout",
     "output_type": "stream",
     "text": [
      "Y  prediction using random forest is : [1 0 0 ... 0 0 0]\n"
     ]
    }
   ],
   "source": [
    "y_pred_r=rf_cls.predict(H)\n",
    "print(\"Y  prediction using random forest is :\",y_pred_r)"
   ]
  },
  {
   "cell_type": "code",
   "execution_count": 114,
   "id": "400242e9",
   "metadata": {
    "scrolled": true
   },
   "outputs": [
    {
     "data": {
      "text/html": [
       "<div>\n",
       "<style scoped>\n",
       "    .dataframe tbody tr th:only-of-type {\n",
       "        vertical-align: middle;\n",
       "    }\n",
       "\n",
       "    .dataframe tbody tr th {\n",
       "        vertical-align: top;\n",
       "    }\n",
       "\n",
       "    .dataframe thead th {\n",
       "        text-align: right;\n",
       "    }\n",
       "</style>\n",
       "<table border=\"1\" class=\"dataframe\">\n",
       "  <thead>\n",
       "    <tr style=\"text-align: right;\">\n",
       "      <th></th>\n",
       "      <th>0</th>\n",
       "    </tr>\n",
       "  </thead>\n",
       "  <tbody>\n",
       "    <tr>\n",
       "      <th>0</th>\n",
       "      <td>1</td>\n",
       "    </tr>\n",
       "    <tr>\n",
       "      <th>1</th>\n",
       "      <td>0</td>\n",
       "    </tr>\n",
       "    <tr>\n",
       "      <th>2</th>\n",
       "      <td>0</td>\n",
       "    </tr>\n",
       "    <tr>\n",
       "      <th>3</th>\n",
       "      <td>0</td>\n",
       "    </tr>\n",
       "    <tr>\n",
       "      <th>4</th>\n",
       "      <td>0</td>\n",
       "    </tr>\n",
       "    <tr>\n",
       "      <th>...</th>\n",
       "      <td>...</td>\n",
       "    </tr>\n",
       "    <tr>\n",
       "      <th>101498</th>\n",
       "      <td>1</td>\n",
       "    </tr>\n",
       "    <tr>\n",
       "      <th>101499</th>\n",
       "      <td>0</td>\n",
       "    </tr>\n",
       "    <tr>\n",
       "      <th>101500</th>\n",
       "      <td>0</td>\n",
       "    </tr>\n",
       "    <tr>\n",
       "      <th>101501</th>\n",
       "      <td>0</td>\n",
       "    </tr>\n",
       "    <tr>\n",
       "      <th>101502</th>\n",
       "      <td>0</td>\n",
       "    </tr>\n",
       "  </tbody>\n",
       "</table>\n",
       "<p>101503 rows × 1 columns</p>\n",
       "</div>"
      ],
      "text/plain": [
       "        0\n",
       "0       1\n",
       "1       0\n",
       "2       0\n",
       "3       0\n",
       "4       0\n",
       "...    ..\n",
       "101498  1\n",
       "101499  0\n",
       "101500  0\n",
       "101501  0\n",
       "101502  0\n",
       "\n",
       "[101503 rows x 1 columns]"
      ]
     },
     "execution_count": 114,
     "metadata": {},
     "output_type": "execute_result"
    }
   ],
   "source": [
    "Serie=pd.DataFrame(y_pred_r)\n",
    "Serie"
   ]
  },
  {
   "cell_type": "code",
   "execution_count": 115,
   "id": "072b2f61",
   "metadata": {},
   "outputs": [],
   "source": [
    "\n",
    "df2 = pd.concat([H,Serie], axis=1)\n",
    "#display(df2)\n",
    "df2.to_csv('final_prediction.csv')"
   ]
  },
  {
   "cell_type": "code",
   "execution_count": null,
   "id": "0c2d2724",
   "metadata": {},
   "outputs": [],
   "source": []
  },
  {
   "cell_type": "code",
   "execution_count": null,
   "id": "a33a5000",
   "metadata": {},
   "outputs": [],
   "source": []
  },
  {
   "cell_type": "code",
   "execution_count": null,
   "id": "0cd6a98f",
   "metadata": {},
   "outputs": [],
   "source": []
  },
  {
   "cell_type": "code",
   "execution_count": null,
   "id": "6591bc28",
   "metadata": {},
   "outputs": [],
   "source": []
  }
 ],
 "metadata": {
  "kernelspec": {
   "display_name": "Python 3 (ipykernel)",
   "language": "python",
   "name": "python3"
  },
  "language_info": {
   "codemirror_mode": {
    "name": "ipython",
    "version": 3
   },
   "file_extension": ".py",
   "mimetype": "text/x-python",
   "name": "python",
   "nbconvert_exporter": "python",
   "pygments_lexer": "ipython3",
   "version": "3.9.7"
  },
  "toc": {
   "base_numbering": 1,
   "nav_menu": {},
   "number_sections": true,
   "sideBar": true,
   "skip_h1_title": false,
   "title_cell": "Table of Contents",
   "title_sidebar": "Contents",
   "toc_cell": false,
   "toc_position": {},
   "toc_section_display": true,
   "toc_window_display": false
  },
  "varInspector": {
   "cols": {
    "lenName": 16,
    "lenType": 16,
    "lenVar": 40
   },
   "kernels_config": {
    "python": {
     "delete_cmd_postfix": "",
     "delete_cmd_prefix": "del ",
     "library": "var_list.py",
     "varRefreshCmd": "print(var_dic_list())"
    },
    "r": {
     "delete_cmd_postfix": ") ",
     "delete_cmd_prefix": "rm(",
     "library": "var_list.r",
     "varRefreshCmd": "cat(var_dic_list()) "
    }
   },
   "types_to_exclude": [
    "module",
    "function",
    "builtin_function_or_method",
    "instance",
    "_Feature"
   ],
   "window_display": false
  }
 },
 "nbformat": 4,
 "nbformat_minor": 5
}
